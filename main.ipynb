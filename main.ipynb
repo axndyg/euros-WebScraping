{
 "cells": [
  {
   "cell_type": "markdown",
   "id": "e8a5be3f-f4fb-4b06-a691-c50cc656ac56",
   "metadata": {},
   "source": [
    "## Creating a DataFrame\n",
    "\n",
    "In the [cc_scraping.ipynb](Documents/Coding/Notebooks/tutorials/cc_scraping.ipynb) demo, we extracted data already from a pretty friendly F1 table.\n",
    "\n",
    "What if we didn't have that? \n",
    "\n",
    "In this self-assigned exercise I will extract simple data from all the matches played in the EURO 2020 from the [Flash Score](https://www.flashscore.com/football/europe/euro-2020/results/) website. We will form a dataframe from the following info\n",
    "1. Date\n",
    "2. Stage of Competition\n",
    "3. Home Team\n",
    "4. Away Team\n",
    "5. Score\n",
    "6. Penalty Score\n",
    "\n",
    "All using Requests, BeautifulSoup, then Pandas"
   ]
  },
  {
   "cell_type": "code",
   "execution_count": 232,
   "id": "a3de1e2e-e9af-4e7e-9836-e21d254f0b6d",
   "metadata": {},
   "outputs": [],
   "source": [
    "import requests\n",
    "from bs4 import BeautifulSoup\n",
    "\n",
    "euro_url = \"https://terrikon.com/en/euro-2020\"\n",
    "e_page = requests.get(euro_url)\n",
    "e_html = e_page.text\n",
    "e_soup = BeautifulSoup(e_html)\n",
    "\n",
    "e_tables = e_soup.find(\"div\", class_=\"maincol\")\n",
    "e_headers = e_tables.find_all(\"h2\")\n",
    "e_SoC_names = [\"\".join(header.text.split(\"Euro-2020.\"))[1:] for header in e_headers]"
   ]
  },
  {
   "cell_type": "markdown",
   "id": "e29bfb4f-81e0-42c1-9f85-c1cba07331ad",
   "metadata": {},
   "source": [
    "##### Sections HTML by Matchtype\n",
    "*i.e Final, Semi-Finals . . . Group F*"
   ]
  },
  {
   "cell_type": "code",
   "execution_count": 233,
   "id": "c646da8b-559f-4e03-8256-0e5ccc6eb5cb",
   "metadata": {},
   "outputs": [],
   "source": [
    "e_sections = []\n",
    "for cnt, header in enumerate(e_headers):\n",
    "    tracker = header.next_sibling\n",
    "    cur_html = \"\"\n",
    "    next_header = False\n",
    "    try:\n",
    "        next_header = e_headers[cnt +1]\n",
    "    except:\n",
    "        while tracker: \n",
    "            cur_html = cur_html + str(tracker)\n",
    "            tracker = tracker.next_sibling\n",
    "        if cur_html:\n",
    "            e_sections.append(BeautifulSoup(cur_html).div)\n",
    "        continue\n",
    "    while next_header and tracker != next_header and tracker:\n",
    "            cur_html = cur_html + str(tracker)\n",
    "            tracker = tracker.next_sibling\n",
    "    if cur_html:\n",
    "            e_sections.append(BeautifulSoup(cur_html).div)"
   ]
  },
  {
   "cell_type": "markdown",
   "id": "f7029fc6-d5a2-4aac-8799-4b7f61e8e3ce",
   "metadata": {},
   "source": [
    "##### Adds the Match type by the relevant Stage\n",
    "*i.e Reporting data for a game in the final*\n",
    "\n"
   ]
  },
  {
   "cell_type": "code",
   "execution_count": 239,
   "id": "2e8bb8bd-a569-4a1b-b530-3838bb659d4f",
   "metadata": {},
   "outputs": [],
   "source": [
    "stage_tester = e_sections[0]\n",
    "s_table = stage_tester.select(\"table.gameresult\")[0]"
   ]
  },
  {
   "cell_type": "code",
   "execution_count": null,
   "id": "072b7c10-7fd8-4a50-a05c-39691057f2a2",
   "metadata": {},
   "outputs": [],
   "source": []
  }
 ],
 "metadata": {
  "kernelspec": {
   "display_name": "Python 3 (ipykernel)",
   "language": "python",
   "name": "python3"
  },
  "language_info": {
   "codemirror_mode": {
    "name": "ipython",
    "version": 3
   },
   "file_extension": ".py",
   "mimetype": "text/x-python",
   "name": "python",
   "nbconvert_exporter": "python",
   "pygments_lexer": "ipython3",
   "version": "3.11.7"
  }
 },
 "nbformat": 4,
 "nbformat_minor": 5
}
