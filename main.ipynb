{
 "cells": [
  {
   "cell_type": "markdown",
   "id": "e8a5be3f-f4fb-4b06-a691-c50cc656ac56",
   "metadata": {},
   "source": [
    "## Creating a DataFrame\n",
    "\n",
    "In the [cc_scraping.ipynb](Documents/Coding/Notebooks/tutorials/cc_scraping.ipynb) demo, we extracted data already from a pretty friendly F1 table.\n",
    "\n",
    "What if we didn't have that? \n",
    "\n",
    "In this self-assigned exercise I will extract simple data from all the matches played in the EURO 2020 from the [Flash Score](https://www.flashscore.com/football/europe/euro-2020/results/) website. We will form a dataframe from the following info\n",
    "1. Date\n",
    "2. Stage of Competition\n",
    "3. Home Team\n",
    "4. Away Team\n",
    "5. Score\n",
    "6. Penalty Score\n",
    "\n",
    "All using Requests, BeautifulSoup, then Pandas"
   ]
  },
  {
   "cell_type": "code",
   "execution_count": 109,
   "id": "a3de1e2e-e9af-4e7e-9836-e21d254f0b6d",
   "metadata": {},
   "outputs": [
    {
     "data": {
      "text/plain": [
       "['Final',\n",
       " 'Semi-finals',\n",
       " 'Quarter-finals',\n",
       " 'Round of 16',\n",
       " 'Group A',\n",
       " 'Group B',\n",
       " 'Group C',\n",
       " 'Group D',\n",
       " 'Group E',\n",
       " 'Group F']"
      ]
     },
     "execution_count": 109,
     "metadata": {},
     "output_type": "execute_result"
    }
   ],
   "source": [
    "import requests\n",
    "from bs4 import BeautifulSoup\n",
    "\n",
    "euro_url = \"https://terrikon.com/en/euro-2020\"\n",
    "e_page = requests.get(euro_url)\n",
    "e_html = e_page.text\n",
    "e_soup = BeautifulSoup(e_html)\n",
    "\n",
    "e_tables = e_soup.find(\"div\", class_=\"maincol\")\n",
    "e_headers = e_tables.find_all(\"h2\")\n",
    "e_headers = [\"\".join(header.text.split(\"Euro-2020.\"))[1:] for header in e_headers]"
   ]
  },
  {
   "cell_type": "markdown",
   "id": "e29bfb4f-81e0-42c1-9f85-c1cba07331ad",
   "metadata": {},
   "source": [
    "##### Sections HTML by Matchtype\n",
    "*i.e Final, Semi-Finals . . . Group F*"
   ]
  },
  {
   "cell_type": "code",
   "execution_count": 71,
   "id": "c646da8b-559f-4e03-8256-0e5ccc6eb5cb",
   "metadata": {},
   "outputs": [],
   "source": [
    "e_sections = []\n",
    "for cnt, header in enumerate(e_headers):\n",
    "    tracker = header.next_sibling\n",
    "    cur_html = \"\"\n",
    "    next_header = False\n",
    "    try:\n",
    "        next_header = e_headers[cnt +1]\n",
    "    except:\n",
    "        while tracker: \n",
    "            cur_html = cur_html + str(tracker)\n",
    "            tracker = tracker.next_sibling\n",
    "        if cur_html:\n",
    "            e_sections.append(BeautifulSoup(cur_html).div)\n",
    "        continue\n",
    "    while next_header and tracker != next_header and tracker:\n",
    "            cur_html = cur_html + str(tracker)\n",
    "            tracker = tracker.next_sibling\n",
    "    if cur_html:\n",
    "            e_sections.append(BeautifulSoup(cur_html).div)"
   ]
  },
  {
   "cell_type": "markdown",
   "id": "f7029fc6-d5a2-4aac-8799-4b7f61e8e3ce",
   "metadata": {},
   "source": [
    "##### Attaches the relevant match type to the data\n",
    "*i.e All Group A-F marked as Group Stage matches*\n",
    "\n"
   ]
  },
  {
   "cell_type": "code",
   "execution_count": 93,
   "id": "2e8bb8bd-a569-4a1b-b530-3838bb659d4f",
   "metadata": {},
   "outputs": [
    {
     "data": {
      "text/html": [
       "<div>\n",
       "<style scoped>\n",
       "    .dataframe tbody tr th:only-of-type {\n",
       "        vertical-align: middle;\n",
       "    }\n",
       "\n",
       "    .dataframe tbody tr th {\n",
       "        vertical-align: top;\n",
       "    }\n",
       "\n",
       "    .dataframe thead th {\n",
       "        text-align: right;\n",
       "    }\n",
       "</style>\n",
       "<table border=\"1\" class=\"dataframe\">\n",
       "  <thead>\n",
       "    <tr style=\"text-align: right;\">\n",
       "      <th></th>\n",
       "      <th>0</th>\n",
       "      <th>1</th>\n",
       "      <th>2</th>\n",
       "      <th>3</th>\n",
       "      <th>4</th>\n",
       "      <th>5</th>\n",
       "    </tr>\n",
       "  </thead>\n",
       "  <tbody>\n",
       "    <tr>\n",
       "      <th>0</th>\n",
       "      <td>NaN</td>\n",
       "      <td>Italy</td>\n",
       "      <td>1:1  (3:2)</td>\n",
       "      <td>England</td>\n",
       "      <td>NaN</td>\n",
       "      <td>11.07.21</td>\n",
       "    </tr>\n",
       "  </tbody>\n",
       "</table>\n",
       "</div>"
      ],
      "text/plain": [
       "    0      1           2        3   4         5\n",
       "0 NaN  Italy  1:1  (3:2)  England NaN  11.07.21"
      ]
     },
     "execution_count": 93,
     "metadata": {},
     "output_type": "execute_result"
    }
   ],
   "source": [
    "import pandas as pd\n",
    "import io\n",
    "\n",
    "s_tester = e_sections[0]\n",
    "s_table = s_tester.select(\"table.gameresult\")[0].prettify()\n",
    "s_table = pd.read_html(io.StringIO(s_table))[0]"
   ]
  },
  {
   "cell_type": "markdown",
   "id": "5b0c4a33-c17a-495e-bca5-19b0f242e519",
   "metadata": {},
   "source": [
    "**To Note Above**\n",
    "\n",
    "Pandas works best with pure html, in a fashion like so\n",
    "\n",
    "`page = request.get(page_url) `<br>\n",
    "`df = pd.read_html(io.StringIO(page.text), match=\"table title\")`\n",
    "\n",
    "Above, s_tester was formatted as beautifulSoup data, we had to prettify to get it back to irignal html text to parse through pandas \n",
    "\n",
    "So, this was an extra hurdle we made for ourselves. Now we know. However, our method above in code cell 71 was a great exercise to partition sections of the html if it wasn't handed to us like tables."
   ]
  },
  {
   "cell_type": "code",
   "execution_count": 155,
   "id": "c3c7e6af-fc56-42fd-b0f5-0042efdc5c1c",
   "metadata": {},
   "outputs": [
    {
     "data": {
      "text/html": [
       "<div>\n",
       "<style scoped>\n",
       "    .dataframe tbody tr th:only-of-type {\n",
       "        vertical-align: middle;\n",
       "    }\n",
       "\n",
       "    .dataframe tbody tr th {\n",
       "        vertical-align: top;\n",
       "    }\n",
       "\n",
       "    .dataframe thead th {\n",
       "        text-align: right;\n",
       "    }\n",
       "</style>\n",
       "<table border=\"1\" class=\"dataframe\">\n",
       "  <thead>\n",
       "    <tr style=\"text-align: right;\">\n",
       "      <th></th>\n",
       "      <th>Home Team</th>\n",
       "      <th>Home Goals</th>\n",
       "      <th>Home Penalties</th>\n",
       "      <th>Away Team</th>\n",
       "      <th>Away Penalties</th>\n",
       "      <th>Match Type</th>\n",
       "      <th>Away Goals</th>\n",
       "      <th>Match Date</th>\n",
       "    </tr>\n",
       "  </thead>\n",
       "  <tbody>\n",
       "    <tr>\n",
       "      <th>0</th>\n",
       "      <td>Italy</td>\n",
       "      <td>1:1  (3:2)</td>\n",
       "      <td>NaN</td>\n",
       "      <td>England</td>\n",
       "      <td>NaN</td>\n",
       "      <td>Final</td>\n",
       "      <td>NaN</td>\n",
       "      <td>11.07.21</td>\n",
       "    </tr>\n",
       "  </tbody>\n",
       "</table>\n",
       "</div>"
      ],
      "text/plain": [
       "  Home Team  Home Goals Home Penalties Away Team Away Penalties Match Type  \\\n",
       "0     Italy  1:1  (3:2)            NaN   England            NaN      Final   \n",
       "\n",
       "   Away Goals Match Date  \n",
       "0         NaN   11.07.21  "
      ]
     },
     "execution_count": 155,
     "metadata": {},
     "output_type": "execute_result"
    }
   ],
   "source": [
    "import pandas as pd\n",
    "import io\n",
    "\n",
    "s_tester = e_sections[0]\n",
    "s_table = s_tester.select(\"table.gameresult\")[0].prettify()\n",
    "s_table = pd.read_html(io.StringIO(s_table))[0]\n",
    "s_table = s_table.drop(columns=[0])\n",
    "\n",
    "s_filler = [\"NaN\" for row in s_table.iterrows()]\n",
    "s_matchtype = [e_headers[0] for row in s_table.iterrows()]\n",
    "\n",
    "s_table = s_table.rename(columns={1:\"Home Team\", 2:\"Home Goals\", 3:\"Away Team\", 4:\"Away Goals\", 5:\"Match Date\"})\n",
    "s_table.insert(2, \"Home Penalties\", s_filler, True)\n",
    "s_table.insert(4, \"Away Penalties\", s_filler, True)\n",
    "s_table.insert(5, \"Match Type\", s_matchtype, True)\n",
    "s_table"
   ]
  },
  {
   "cell_type": "code",
   "execution_count": null,
   "id": "793b1307-42b4-435a-819f-20dbfa8f7553",
   "metadata": {},
   "outputs": [],
   "source": [
    "# Home team | Home Goals |  Home Penalties | Away Team | Away Goals | Away Penalties | Match Type | Match Date\n",
    "\n",
    "# df.insert(2, \"Age\", [21, 23, 24, 21], True)\n",
    "#df.rename(columns={\"A\": \"a\", \"B\": \"c\"})"
   ]
  }
 ],
 "metadata": {
  "kernelspec": {
   "display_name": "Python 3 (ipykernel)",
   "language": "python",
   "name": "python3"
  },
  "language_info": {
   "codemirror_mode": {
    "name": "ipython",
    "version": 3
   },
   "file_extension": ".py",
   "mimetype": "text/x-python",
   "name": "python",
   "nbconvert_exporter": "python",
   "pygments_lexer": "ipython3",
   "version": "3.11.7"
  }
 },
 "nbformat": 4,
 "nbformat_minor": 5
}
