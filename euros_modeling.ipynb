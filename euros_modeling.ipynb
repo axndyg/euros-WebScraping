{
 "cells": [
  {
   "cell_type": "markdown",
   "id": "f2318790-5a43-4a52-910c-dcd58c7b9b55",
   "metadata": {},
   "source": [
    "## Modeling with a Dataframe\n",
    "\n",
    "After webscraping all of the Euros data and formatting into a dataframe then csv in my [euros_scraping.ipynb](http://localhost:8888/files/Documents/Coding/Notebooks/repos/euros-WebScraping/euros_scraping.ipynb?_xsrf=2%7C8c3fecd8%7C02d37b9b4c7c7af0dd7bca94af94aa7f%7C1716421226) notebook, I will now attempt to perform Modeling and predictions\n",
    "\n",
    "THe hope is I scraped the relevant data, having all results recorded from Euro's and Euro's qualifiers into the csv.\n",
    "\n",
    "In this notebook, I will use pandas as the main method of modeling this data."
   ]
  },
  {
   "cell_type": "code",
   "execution_count": null,
   "id": "e2bdf98e-2641-4434-bce2-f53d4197b5e3",
   "metadata": {},
   "outputs": [],
   "source": [
    "import pandas as pd"
   ]
  },
  {
   "cell_type": "code",
   "execution_count": null,
   "id": "a00c344b-3a63-43c5-838d-fd9ba2221dfb",
   "metadata": {},
   "outputs": [],
   "source": [
    "matches = pd.read_csv(\"euros1960_2024q.csv\", index_col=0)\n",
    "matches[\"mDate\"] = pd.to_datetime(matches[\"mDate\"], format=\"%d.%m.%y\")\n",
    "matches.loc[matches[\"mDate\"].dt.year > 2024, \"mDate\"] -= pd.DateOffset(years=100) \n",
    "\n",
    "# necesssary to offset pre-2000 mDates being interpreted as 20%yy (10.05.59 as 1959)"
   ]
  },
  {
   "cell_type": "code",
   "execution_count": null,
   "id": "88ecee1f-950b-40dd-9867-f122b6bb1ac4",
   "metadata": {},
   "outputs": [],
   "source": [
    "matches[\"hTeam\"].value_counts().head()"
   ]
  },
  {
   "cell_type": "code",
   "execution_count": null,
   "id": "5cb9700a-3138-4712-9a94-99d66ff3f758",
   "metadata": {},
   "outputs": [],
   "source": [
    "matches[\"aTeam\"].value_counts().head()"
   ]
  },
  {
   "cell_type": "markdown",
   "id": "8fd46ee8-da4e-42e7-a236-6a1c6f8cf7ed",
   "metadata": {},
   "source": [
    "### Next Steps \n",
    "\n",
    "Currently, a single National team's data is split between home and away sections. For example, when we scraped the page data, sometimes Italy was listed as the left team and sometimes it was listed as the right team.\n",
    "\n",
    "For brevity, I selected to set Italy as the home team whenever it appeared on the left and designated it as the away team when it appeared on the right.\n",
    "\n",
    "It will be better to reorganize the data, coalescing all of Italy's matches together, re-stiching the data from\n",
    "\n",
    "> hTeam --> team <BR>\n",
    "> hGoals --> gScored <BR>\n",
    "> hPenalties --> pScored <BR>\n",
    "> hResult --> result <BR>\n",
    "> aTeam --> opponent <BR>\n",
    "> aGoals --> gAllowed <BR>\n",
    "> aPenalties --> pAllowed <BR>\n",
    "\n",
    "This will be difficult and require duplicate row data <br>\n",
    "(i.e Italy as home team, Denmark as away, recording same match data for both in their own \"team\" as opposite's \"opponent\" so we can focus on a Nation's individual performance)\n",
    "\n",
    "Instead of manipulating our current dataframe, it may be best to update into a new dataframe"
   ]
  },
  {
   "cell_type": "code",
   "execution_count": null,
   "id": "a49dca5b-8773-409e-85e1-6d49be824f4d",
   "metadata": {},
   "outputs": [],
   "source": [
    "# comp | mType | team | opponent | result | goals | gAllowed | penalties | pAllowed | mDate\n",
    "mInfo = {\"team\": [\"filler\"], \"opponent\": [\"fller\"],\n",
    "        \"result\": ['f'], \"goals\": [1.1], \"gAllowed\": [1.1], \n",
    "        \"penalties\": [1.1], \"pAllowed\": [1.1], \"mDate\": [pd.NA], \n",
    "        \"SoC\": [\"filler\"], 'mType': [\"filler\"], 'comp': [\"filler\"],}\n",
    "cMatches = pd.DataFrame(data=mInfo)\n",
    "cMatches[[\"mDate\"]] = cMatches[[\"mDate\"]].astype(\"datetime64[ns]\")\n",
    "cMatches = cMatches.drop(index=0)\n",
    "cMatches"
   ]
  },
  {
   "cell_type": "code",
   "execution_count": null,
   "id": "f961149d-6a4e-426b-afc7-4b144367f314",
   "metadata": {},
   "outputs": [],
   "source": [
    "mType_corrections = { \"Group Stage\" : \"Group Stage\",             \n",
    "                    \"Quarter-finals\": \"Quarter-finals\",       \n",
    "                    \"Round of 16\": \"Round of 16\",                \n",
    "                    \"Semi-finals\": \"Semi-finals\",                \n",
    "                    \"Qualifying Round\": \"Qualifying Round\",\n",
    "                    \"Third place play-off\": \"Third place play-off\",      \n",
    "                    \"Finals\": \"Final\",                     \n",
    "                    \"Quater-finals\": \"Quarter-finals\",   \n",
    "                    \"Final\":\"Final\",     \n",
    "                    \"Head to head round\": \"Head-To-Head\",                             \n",
    "                    \"Head to Head\": \"Head-To-Head\"}\n",
    "\n",
    "SoC_corrections = { \"Group Stage\" : \"Group Stage\",             \n",
    "                    \"Quarter-finals\": \"Knockout Round\",       \n",
    "                    \"Round of 16\": \"Knockout Round\",                \n",
    "                    \"Semi-finals\": \"Knockout Round\",                \n",
    "                    \"Qualifying Round\": \"Knockout Round\",\n",
    "                    \"Third place play-off\": \"Knockout Round\",      \n",
    "                    \"Finals\": \"Knockout Round\",                     \n",
    "                    \"Quater-finals\": \"Knockout Round\",   \n",
    "                    \"Final\":\"Knockout Round\",     \n",
    "                    \"Head to head round\": \"Head-To-Head\",                             \n",
    "                    \"Head to Head\": \"Head-To-Head\"}          \n",
    "           \n",
    "for index, row in matches.iterrows():\n",
    "    mType = mType_corrections[row[\"mType\"]] \n",
    "    SoC = SoC_corrections[row[\"mType\"]] \n",
    "    cMatches.loc[-1] = [row[\"hTeam\"], row[\"aTeam\"], row[\"hResult\"], row[\"hGoals\"], row[\"aGoals\"], row[\"hPenalties\"], row[\"aPenalties\"], row[\"mDate\"], SoC, mType, row[\"comp\"], ]\n",
    "    cMatches.index += 1\n",
    "    cMatches.loc[-1] = [row[\"aTeam\"], row[\"hTeam\"], row[\"aResult\"], row[\"aGoals\"], row[\"hGoals\"], row[\"aPenalties\"], row[\"hPenalties\"], row[\"mDate\"], SoC, mType, row[\"comp\"]]\n",
    "    cMatches.index += 1\n",
    "cMatches.index = list(range(len(cMatches[\"team\"])))"
   ]
  },
  {
   "cell_type": "code",
   "execution_count": null,
   "id": "2b35b7e1-699c-4a70-8942-35db2b88ab9b",
   "metadata": {},
   "outputs": [],
   "source": [
    "cMatches.head()"
   ]
  },
  {
   "cell_type": "code",
   "execution_count": null,
   "id": "41a93488-d4ce-4e67-9342-be1b57274a25",
   "metadata": {},
   "outputs": [],
   "source": [
    "cMatches.tail()"
   ]
  },
  {
   "cell_type": "code",
   "execution_count": null,
   "id": "30212040-e080-404e-abe9-e0b9776d5a57",
   "metadata": {},
   "outputs": [],
   "source": [
    "cMatches[\"mType\"].value_counts()"
   ]
  },
  {
   "cell_type": "code",
   "execution_count": null,
   "id": "afa0edf8-5e33-4ab6-8849-c3c9af03e09b",
   "metadata": {},
   "outputs": [],
   "source": [
    "cMatches[\"SoC\"].value_counts()"
   ]
  },
  {
   "cell_type": "markdown",
   "id": "d64e0320-82b5-49f5-aa61-eb64d6cf1587",
   "metadata": {},
   "source": [
    "## Setting category predictors\n",
    "\n",
    "Below, we are adding additional columns as metrics for predicting a match. A team may perform differently based on the match type of the competition and their competitor \n",
    "\n",
    "The target column is if a team achieved its desired result, \n",
    "\n",
    "> a \"W\" was desired, equating to a 3 <br>\n",
    "> a \"D\" equating to a 1 <br>\n",
    "> a \"L\" equating to a 0"
   ]
  },
  {
   "cell_type": "code",
   "execution_count": null,
   "id": "778920da-4f08-4578-8426-a7b5a64eaa97",
   "metadata": {},
   "outputs": [],
   "source": [
    "cMatches[\"team\"] = cMatches[\"team\"].astype(\"category\")\n",
    "cMatches[\"opponent\"] = cMatches[\"opponent\"].astype(\"category\")\n",
    "cMatches[\"SoC\"] = cMatches[\"SoC\"].astype(\"category\")\n",
    "cMatches[\"mType\"] = cMatches[\"mType\"].astype(\"category\")\n",
    "\n",
    "dT_keys = cMatches[\"team\"].to_list() \n",
    "dO_keys = cMatches[\"opponent\"].to_list()\n",
    "dS_keys = cMatches[\"SoC\"].to_list()\n",
    "dM_keys = cMatches[\"mType\"].to_list()\n",
    "\n",
    "dT_values = cMatches[\"team\"].cat.codes\n",
    "dO_values = cMatches[\"opponent\"].cat.codes\n",
    "dS_values = cMatches[\"SoC\"].cat.codes\n",
    "dM_values = cMatches[\"mType\"].cat.codes\n",
    "\n",
    "d_Teams = dict(zip(dT_keys, dT_values)) # functionally same dict as d_opp, maybe overlap \n",
    "d_Opp = dict(zip(dO_keys, dO_values)) \n",
    "d_SoC = dict(zip(dS_keys, dS_values))\n",
    "d_Matches = dict(zip(dM_keys, dM_values))\n",
    "\n",
    "cMatches[\"tCode\"] = cMatches[\"team\"].cat.codes\n",
    "cMatches[\"oppCode\"] = cMatches[\"opponent\"].cat.codes\n",
    "cMatches[\"socCode\"] = cMatches[\"SoC\"].cat.codes\n",
    "cMatches[\"mCode\"] = cMatches[\"mType\"].cat.codes"
   ]
  },
  {
   "cell_type": "code",
   "execution_count": null,
   "id": "d84081a5-46e2-4ee0-952c-3db6c009b10b",
   "metadata": {},
   "outputs": [],
   "source": [
    "cMatches.loc[(cMatches[\"team\"] == \"Georgia\") | (cMatches[\"opponent\"] == \"Georgia\")].head()\n",
    "    # dataframe.loc with multiple conditionals prefers \n",
    "    # () to isolate each coniditional and \n",
    "    # uses & for conditional and\n",
    "    # uses | for conditional or "
   ]
  },
  {
   "cell_type": "code",
   "execution_count": null,
   "id": "75471b1e-e7ea-4ed3-bbea-35fde22f193a",
   "metadata": {
    "scrolled": true
   },
   "outputs": [],
   "source": [
    "points = {\"W\": 3, \"D\": 1, \"L\": 0} \n",
    "pointsR = {3: \"W\", 1: \"D\", 0: \"L\"}\n",
    "\n",
    "cMatches[\"target\"] = [ points[row[\"result\"]] for index, row in cMatches.iterrows()]\n",
    "cMatches[\"result\"].value_counts()"
   ]
  },
  {
   "cell_type": "markdown",
   "id": "e666466a-b17a-40d9-a8bb-1a5368cb201c",
   "metadata": {},
   "source": [
    "## Model \n",
    "With a RandomForestClassifer, we can run simulations with our category codes non-linearity,\n",
    "\n",
    "We then split from a \"trained\" and \"test\" dataframe \n",
    "\n",
    "> A Train dataframe to . . . train our rf model on our selected predictors (opponent and match type) to see what the expected result (target) would be in our test model <br>\n",
    "> A Test data frame to see how our predictions actually compare with that of the outcome "
   ]
  },
  {
   "cell_type": "code",
   "execution_count": null,
   "id": "7d9c0e5f-2c43-4530-84d7-9bbad2dc1b80",
   "metadata": {},
   "outputs": [],
   "source": [
    "from sklearn.ensemble import RandomForestClassifier\n",
    "\n",
    "# associates non-linearity \n",
    "# i.e oppCode 22 doesn't imply numerical difference between oppCode 23\n",
    "# just categorical differences\n",
    "\n",
    "rf = RandomForestClassifier(n_estimators=100, min_samples_split=10, random_state=42)\n",
    "\n",
    "train_set = cMatches[cMatches[\"mDate\"] < \"2000-01-01\"] \n",
    "test_set = cMatches[cMatches[\"mDate\"] > \"2000-01-01\"]\n",
    "\n",
    "predictors = [\"tCode\", \"oppCode\", \"socCode\", \"mCode\"]\n",
    "\n",
    "rf.fit(train_set[predictors], train_set[\"target\"])\n",
    "# runs our forest model on known oppCode mCode combos, then we provide the result that came out of it \"target\"\n",
    "\n",
    "preds = rf.predict(test_set[predictors])\n",
    "# then with our test set, we produce a precition column on what result would be given oppCode and mCode"
   ]
  },
  {
   "cell_type": "markdown",
   "id": "07def941-b183-4a86-b18c-dd34ebd4a622",
   "metadata": {},
   "source": [
    "## Comparisons\n",
    "\n",
    "With our trained rf, we then create predictions based on the same metrics for the test data set\n",
    "\n",
    "Using the accuracy_score, we're able to see how often our trained model guessed correctlty"
   ]
  },
  {
   "cell_type": "code",
   "execution_count": null,
   "id": "8bfdec8e-afd0-4cb5-a602-d5eb540692d8",
   "metadata": {},
   "outputs": [],
   "source": [
    "from sklearn.metrics import accuracy_score\n",
    "\n",
    "# measures our predictions \n",
    "acc = accuracy_score(test_set[\"target\"], preds)\n",
    "acc\n",
    "\n",
    "# compares the likeness of each prediction to the actual result (target) and reports our accuracy"
   ]
  },
  {
   "cell_type": "code",
   "execution_count": null,
   "id": "e7587a04-c9fc-4370-b63c-cad7110e0219",
   "metadata": {},
   "outputs": [],
   "source": [
    "combined = pd.DataFrame(dict(actual=test_set[\"target\"], prediction=preds))\n",
    "pd.crosstab(index=combined[\"actual\"], columns=combined[\"prediction\"])"
   ]
  },
  {
   "cell_type": "code",
   "execution_count": null,
   "id": "61ceee4a-df20-4474-9a9e-1cfcdb8455d6",
   "metadata": {},
   "outputs": [],
   "source": [
    "from sklearn.metrics import precision_score\n",
    "\n",
    "\"\"\"\n",
    "Precision Score then defined as \n",
    "\n",
    "    ps = tp / (tp + fp) \n",
    "\n",
    "    tp = true positive \n",
    "    fp = false positive \n",
    "\n",
    "Essentially reports the score \"how often did we correctly call a winning result\n",
    "\"\"\"\n",
    "\n",
    "precision_score(test_set[\"target\"], preds, average=None)"
   ]
  },
  {
   "cell_type": "markdown",
   "id": "a648579c-c11c-44a9-a4a6-97e953bc8232",
   "metadata": {},
   "source": [
    "## Predictions \n",
    "\n",
    "With our model, we will now predict the results of Group Stage Fixtures with our training model and move on from there until a winner is decided\n",
    "\n",
    "Here's what happening below \n",
    "\n",
    "1. Web-scraping for all the Group Stages in the Euros 2024\n",
    "2. Isolating to just the fixtures\n",
    "3. Cleaning up given fixture table into our new tables\n",
    "4. Repeating the data twice per table (with swapped team and opponent)\n",
    "\n",
    "Now en_tables should be an array of our tables cleaned up with doubled match data\n"
   ]
  },
  {
   "cell_type": "code",
   "execution_count": null,
   "id": "98a7d09b-ca05-472f-aab6-c8a819555d61",
   "metadata": {},
   "outputs": [],
   "source": [
    "import requests\n",
    "import io \n",
    "from bs4 import BeautifulSoup\n",
    "\n",
    "e_2024 = \"https://web.archive.org/web/20240516182458/https://terrikon.com/en/euro-2024\"\n",
    "e_2024_page = requests.get(e_2024)\n",
    "e_html = e_2024_page.text\n",
    "\n",
    "e_tables = pd.read_html(io.StringIO(e_html))\n",
    "group_tables = [table for table in e_tables if table.shape[0] == 4]\n",
    "group_tables = [table.drop([\"Unnamed: 0\", \"G\", \"S\", \"M\"], axis=1) for table in group_tables]\n",
    "group_tables = [table.rename(columns={\"Unnamed: 1\": \"Team\"}) for table in group_tables]\n",
    "lineup_tables = [table for table in e_tables if table.shape[0] == 6]\n",
    "en_tables = [] \n",
    "\n",
    "mInfo = {\"team\": [\"filler\"], \"opponent\": [\"fller\"],  \"mDate\": [pd.NA], \n",
    "        'mType': [\"filler\"], \"SoC\": [\"filler\"], 'comp': [\"filler\"], \"tCode\": \"filler\", \"oppCode\": [\"filler\"], \"mCode\": [\"filler\"], \"socCode\": [\"filler\"]}\n",
    "for table in lineup_tables:\n",
    "    f_table = pd.DataFrame(data=mInfo)\n",
    "    f_table = f_table.drop(index=0)\n",
    "    table[5] = table[5].apply(lambda x: x.split(\" \")[0])\n",
    "    table[5] = pd.to_datetime(table[5], format=\"%d.%m.%y\")\n",
    "    for index, row in table.iterrows():\n",
    "        f_table.loc[-1] = [row[1], row[3], row[5], \"Group Stage\", \"Group Stage\",\" Euros 2024\", d_Teams[row[1]], d_Opp[row[3]], d_Matches[\"Group Stage\"], d_SoC[\"Group Stage\"]]\n",
    "        f_table.index += 1\n",
    "        f_table.loc[-1] = [row[3], row[1], row[5], \"Group Stage\", \"Group Stage\", \"Euros 2024\", d_Teams[row[3]], d_Opp[row[1]], d_Matches[\"Group Stage\"], d_SoC[\"Group Stage\"]]\n",
    "        f_table.index += 1\n",
    "    f_table.index = range(f_table.shape[0])\n",
    "    en_tables.append(f_table)"
   ]
  },
  {
   "cell_type": "markdown",
   "id": "3f538ba6-7965-4bbf-b141-d00c422614f6",
   "metadata": {},
   "source": [
    "## Predicting Group Stage \n",
    "\n",
    "Per table, we are now going to produce a prediction column to see who the result of the match.\n",
    "\n",
    "Should the same-matchup produce different results, we will chalk it up as a tie\n",
    "\n"
   ]
  },
  {
   "cell_type": "code",
   "execution_count": null,
   "id": "1119db48-4706-417f-abd3-3103e2c31b59",
   "metadata": {},
   "outputs": [],
   "source": [
    "for table in group_tables:\n",
    "  table[\"W\"] = [0 for num in range(table.shape[0])]\n",
    "  table[\"D\"] = [0 for num in range(table.shape[0])]\n",
    "  table[\"L\"] = [0 for num in range(table.shape[0])] \n",
    "  table[\"Pts\"] = [0 for num in range(table.shape[0])]\n",
    "\n",
    "# needed as matches are being played"
   ]
  },
  {
   "cell_type": "code",
   "execution_count": null,
   "id": "e361b673-afaa-478d-bbca-37eac102d4f8",
   "metadata": {},
   "outputs": [],
   "source": [
    "group_tables[0]"
   ]
  },
  {
   "cell_type": "code",
   "execution_count": null,
   "id": "af81b240-da05-48fe-ab10-aa60f80193ff",
   "metadata": {},
   "outputs": [],
   "source": [
    "en_tables[0]"
   ]
  },
  {
   "cell_type": "markdown",
   "id": "2492c3f3-2695-489e-8d3b-6b9891e18653",
   "metadata": {},
   "source": [
    "### Making a prediction "
   ]
  },
  {
   "cell_type": "code",
   "execution_count": null,
   "id": "a1551085-8bff-4cef-ae7c-5a0bb7941dea",
   "metadata": {},
   "outputs": [],
   "source": [
    "def run_prediction(uMatches, kMatches, metrics): \n",
    "    comp_set = kMatches[cMatches[\"mDate\"] > \"1980-01-01\"] \n",
    "    training_set = kMatches # add conditional here if desired to select the training set\n",
    "    forest = RandomForestClassifier(n_estimators=100, min_samples_split=10, random_state=42) \n",
    "\n",
    "    forest.fit(training_set[metrics], training_set[\"target\"])\n",
    "\n",
    "    cPreds = forest.predict(comp_set[metrics])\n",
    "    uPreds = forest.predict(uMatches[metrics])\n",
    "\n",
    "    ps = precision_score(comp_set[\"target\"], cPreds, average=None)\n",
    "    ac = accuracy_score(comp_set[\"target\"], cPreds)\n",
    "    \n",
    "    return uPreds, ps, ac  \n",
    "\n",
    "def decide_result(resultA, resultB): \n",
    "    match resultA:\n",
    "        case \"W\":\n",
    "            match resultB:\n",
    "                case \"W\": return \"D\", \"D\"\n",
    "                case \"D\": return \"W\", \"L\"\n",
    "                case \"L\": return \"W\", \"L\"\n",
    "        case \"D\":\n",
    "            match resultB:\n",
    "                case \"W\": return \"L\", \"W\"\n",
    "                case \"D\": return \"D\", \"D\"\n",
    "                case \"L\": return \"W\", \"L\"\n",
    "        case \"L\":\n",
    "            match resultB:\n",
    "                case \"W\": return \"L\", \"W\"\n",
    "                case \"D\": return \"L\", \"W\"\n",
    "                case \"L\": return \"D\", \"D\""
   ]
  },
  {
   "cell_type": "code",
   "execution_count": null,
   "id": "643676d5-7f3c-4e93-8fe9-54547fddc2ba",
   "metadata": {},
   "outputs": [],
   "source": [
    "for g, group in enumerate(en_tables): \n",
    "    preds, confidence, acc = run_prediction(group, cMatches, [\"tCode\", \"oppCode\", \"mCode\", \"socCode\"])\n",
    "    group[\"prediction\"] = [ pointsR[pred] for pred in preds]\n",
    "    print(preds, confidence, acc)\n",
    "    corrected_results = []\n",
    "    for index in range(group.shape[0]):\n",
    "        if index % 2 == 0: \n",
    "            team_a = group.loc[index][\"team\"]\n",
    "            team_b = group.loc[index][\"opponent\"]\n",
    "            result_a = group.loc[index][\"prediction\"] \n",
    "            result_b = group.loc[index+1][\"prediction\"]\n",
    "            result, result_opp = decide_result(result_a, result_b)\n",
    "\n",
    "            corrected_results.append(result)\n",
    "            corrected_results.append(result_opp)\n",
    "\n",
    "            i_a= group_tables[g].loc[group_tables[g][\"Team\"] == team_a].index\n",
    "            i_b= group_tables[g].loc[group_tables[g][\"Team\"] == team_b].index\n",
    "            \n",
    "            group_tables[g].loc[i_a, result] += 1\n",
    "            group_tables[g].loc[i_a, \"Pts\"] += points[result]\n",
    "\n",
    "            group_tables[g].loc[i_b, result_opp] += 1\n",
    "            group_tables[g].loc[i_b, \"Pts\"] += points[result_opp]\n",
    "    group[\"correctedPred\"] = corrected_results\n",
    "    group_tables[g] = group_tables[g].sort_values(by=\"Pts\", ascending=False)"
   ]
  },
  {
   "cell_type": "code",
   "execution_count": null,
   "id": "ff67a547-33d0-4a02-98b1-301fc4a75d44",
   "metadata": {},
   "outputs": [],
   "source": [
    "for table in group_tables:\n",
    "    table.index = range(table.shape[0])"
   ]
  },
  {
   "cell_type": "code",
   "execution_count": null,
   "id": "259c0f0b-ef08-4fb0-94d3-799fdf23c6b2",
   "metadata": {},
   "outputs": [],
   "source": [
    "group_tables[0]"
   ]
  },
  {
   "cell_type": "code",
   "execution_count": null,
   "id": "308a5453-1c9a-4a54-824a-92dc6f2fcd52",
   "metadata": {},
   "outputs": [],
   "source": [
    "en_tables[0]"
   ]
  },
  {
   "cell_type": "code",
   "execution_count": null,
   "id": "3c23c6dc-55f1-44fd-82e2-eb353a7b9c8a",
   "metadata": {},
   "outputs": [],
   "source": [
    "groups = [\"A\", \"B\", \"C\", \"D\", \"E\", \"F\"] "
   ]
  },
  {
   "cell_type": "code",
   "execution_count": null,
   "id": "92fe345d-3408-483b-9116-ba0dd6d31530",
   "metadata": {},
   "outputs": [],
   "source": [
    "for t in range(len(group_tables)): \n",
    "    group_tables[t].to_csv(f\"./predictions/group_preds/group_{groups[t]}.csv\")"
   ]
  },
  {
   "cell_type": "markdown",
   "id": "d7fef615-fbda-49f4-9a9f-4e10eadcfbb2",
   "metadata": {},
   "source": [
    "## Predicting Knockout Stage\n",
    "\n",
    "The prediction algorithm is all set, the next steps is formatting a table for the rest of the tournament with the knockout stage, including \n",
    "\n",
    "> Round of 16 <br>\n",
    "> Quarter-Finals <br>\n",
    "> Semi-Finals <br>\n",
    "> Finals\n",
    "\n",
    "Luckily, there is a posted [bracket page](https://www.uefa.com/euro2024/fixtures-results/bracket/) so we can organize the matches by team better closer to what the tournmanent may fold out\n",
    "\n",
    "BUT Eufa doesn't like page requests from scripts, so I will be using the correspodning [Wiki page](https://en.wikipedia.org/wiki/UEFA_Euro_2024#Knockout_stage) with the same info\n"
   ]
  },
  {
   "cell_type": "code",
   "execution_count": null,
   "id": "dcc1f747-2bd2-4280-8832-ee659a899034",
   "metadata": {},
   "outputs": [],
   "source": [
    "import requests\n",
    "wiki24_url = \"https://web.archive.org/web/20240613021538/https://en.wikipedia.org/wiki/UEFA_Euro_2024#Knockout_stage\"\n",
    "wiki24_page = requests.get(wiki24_url)\n",
    "wiki24_soup = BeautifulSoup(wiki24_page.text)\n",
    "wiki24_tables = pd.read_html(io.StringIO(wiki24_page.text))"
   ]
  },
  {
   "cell_type": "code",
   "execution_count": null,
   "id": "2bdee440-26c6-4404-aa4c-731b306a43e1",
   "metadata": {},
   "outputs": [],
   "source": [
    "ko_lineups = wiki24_soup.find_all(\"div\", class_=\"footballbox\")\n",
    "\n",
    "ro16_lineups = ko_lineups[36:44]\n",
    "qf_lineups = ko_lineups[44:48]\n",
    "sf_lineups = ko_lineups[48:50]\n",
    "f_lineup = ko_lineups[50]"
   ]
  },
  {
   "cell_type": "code",
   "execution_count": null,
   "id": "f525083e-7132-4adf-8ed5-0bf7bd0fb56f",
   "metadata": {},
   "outputs": [],
   "source": [
    "ro16_matches = pd.DataFrame(data=mInfo)\n",
    "ro16_matches.insert(0, \"mNumber\", [0])\n",
    "ro16_matches = ro16_matches.drop(index=0)"
   ]
  },
  {
   "cell_type": "code",
   "execution_count": null,
   "id": "830782dc-8ecb-459f-94fd-20259b9af52f",
   "metadata": {},
   "outputs": [],
   "source": [
    "sel_plac = {\"Winner\": 0, \"Runner-Up\": 1, \"3rd\": 2} \n",
    "    # for indexing the group "
   ]
  },
  {
   "cell_type": "code",
   "execution_count": null,
   "id": "44973433-7772-4efa-8548-d51ba4df5bb9",
   "metadata": {},
   "outputs": [],
   "source": [
    "import random\n",
    "third_round_selects = [] \n",
    "for lineup in ro16_lineups: \n",
    "    mDate = lineup.find(\"div\", class_=\"fdate\").find(\"span\", class_=\"bday\").text\n",
    "    parA = lineup.find(\"th\", class_=\"fhome\").span.text.split(\" \")\n",
    "    mNum = int(lineup.find(\"th\", class_=\"fscore\").a.text[-2:])\n",
    "    parB = lineup.find(\"th\", class_=\"faway\").span.text.split(\" \")\n",
    "\n",
    "    teamA = \"err\"\n",
    "    teamB = \"err\"\n",
    "    \n",
    "    if \"Winner\" in parA:\n",
    "        teamA = group_tables[groups.index(parA[2])].loc[0, \"Team\"]  \n",
    "    elif \"Runner-up\" in parA:\n",
    "        teamA = group_tables[groups.index(parA[2])].loc[1, \"Team\"]\n",
    "        \n",
    "    if \"Winner\" in parB:\n",
    "        teamB = group_tables[groups.index(parB[2])].loc[0, \"Team\"]  \n",
    "    elif \"Runner-up\" in parB:\n",
    "        teamB = group_tables[groups.index(parB[2])].loc[1, \"Team\"]  \n",
    "    elif \"3rd\" in parB:\n",
    "        options = parB[2].split(\"/\")\n",
    "        random.shuffle(options)\n",
    "        for option in options: \n",
    "            holder = group_tables[groups.index(option)].loc[2, \"Team\"]\n",
    "            if holder not in third_round_selects:\n",
    "                teamB = holder\n",
    "                third_round_selects.append(teamB)\n",
    "                break\n",
    "\n",
    "    ro16_matches.loc[-1] = [mNum, teamA, teamB, mDate, \"Round of 16\", \"Knockout Round\", \"Euros 2024\", d_Teams[teamA], d_Opp[teamB], d_Matches[\"Round of 16\"], d_SoC[\"Knockout Round\"]]\n",
    "    ro16_matches.index += 1\n",
    "    ro16_matches.loc[-1] = [mNum, teamB, teamA, mDate, \"Round of 16\", \"Knockout Round\", \"Euros 2024\", d_Teams[teamB], d_Opp[teamA], d_Matches[\"Round of 16\"], d_SoC[\"Knockout Round\"]]\n",
    "    ro16_matches.index += 1"
   ]
  },
  {
   "cell_type": "code",
   "execution_count": null,
   "id": "f225aa2f-534a-4c8b-a9dc-2270ac24d9a0",
   "metadata": {},
   "outputs": [],
   "source": [
    "ro16_matches.head()"
   ]
  },
  {
   "cell_type": "code",
   "execution_count": null,
   "id": "f5ee7b9f-b3aa-4a56-8362-77f950953dc1",
   "metadata": {},
   "outputs": [],
   "source": [
    "ro16_preds, ro16_ps, ro16_acc = run_prediction(ro16_matches, cMatches, [\"tCode\", \"oppCode\", \"mCode\", \"socCode\"])\n",
    "print(ro16_preds, ro16_ps, ro16_acc)\n",
    "ro16_matches[\"pred\"] = [ pointsR[pred] for pred in ro16_preds]"
   ]
  },
  {
   "cell_type": "code",
   "execution_count": null,
   "id": "b961fe40-af0e-4f20-a6a2-3a400578bbd5",
   "metadata": {},
   "outputs": [],
   "source": [
    "def correct_draws(ko):\n",
    "    for r in range(ko.shape[0]):\n",
    "        if r % 2 == 0:\n",
    "            res_a = ko.loc[r, \"pred\"]\n",
    "            res_b = ko.loc[r+1, \"pred\"]\n",
    "            if res_a == res_b: \n",
    "                teamA = ko.loc[r, \"team\"]\n",
    "                teamB = ko.loc[r+1, \"team\"]\n",
    "                mCode = ko.loc[r, \"mCode\"]\n",
    "                socCode = ko.loc[r, \"socCode\"]\n",
    "                \n",
    "                res_a, res_b = head_to_head(teamA, teamB, mCode, socCode)\n",
    "                ko.loc[r, \"pred\"] = res_a \n",
    "                ko.loc[r+1, \"pred\"] = res_b\n",
    "\n",
    "def head_to_head(teamA, teamB, mCode, socCode): \n",
    "    dInfo = {\"team\": [\"filler\"], \"opponent\": [\"fller\"], \"tCode\": \"filler\", \"oppCode\": [\"filler\"], \"mCode\": [\"filler\"], \"socCode\": [\"filler\"]}\n",
    "    dummy = pd.DataFrame(dInfo) \n",
    "    dummy = dummy.drop(index=0) \n",
    "\n",
    "    for i in range(6):\n",
    "        dummy.loc[-1] = [teamA, teamB, d_Teams[teamA], d_Opp[teamB], d_Matches[\"Head-To-Head\"], socCode]\n",
    "        dummy.index+= 1\n",
    "        dummy.loc[-1] = [teamB, teamA, d_Teams[teamB], d_Opp[teamA], d_Matches[\"Head-To-Head\"], socCode]\n",
    "        dummy.index+= 1\n",
    "    dummy.loc[-1] = [teamA, teamB, d_Teams[teamA], d_Opp[teamB], mCode, socCode]\n",
    "    dummy.index+= 1\n",
    "    dummy.loc[-1] = [teamB, teamA, d_Teams[teamB], d_Opp[teamA], mCode, socCode]\n",
    "    dummy.index+= 1\n",
    "\n",
    "    dPreds, d_ps, d_acc = run_prediction(dummy, cMatches, [\"tCode\", \"oppCode\", \"mCode\", \"socCode\"])\n",
    "    dummy[\"pred\"] = [pointsR[pred] for pred in dPreds]\n",
    "\n",
    "    a_wins = dummy.loc[(dummy[\"team\"] == teamA) & (dummy[\"pred\"] == \"W\")].shape[0]\n",
    "    b_wins = dummy.loc[(dummy[\"team\"] == teamB) & (dummy[\"pred\"] == \"W\")].shape[0]\n",
    "\n",
    "    a_res = \"err\"\n",
    "    b_res = \"err\" \n",
    "\n",
    "    if a_wins > b_wins: \n",
    "        a_res = \"W\" \n",
    "        b_res = \"L\"\n",
    "    elif a_wins < b_wins: \n",
    "        a_res = \"L\" \n",
    "        b_res = \"W\"\n",
    "    else: \n",
    "        print(\"ERR. head to head produced more draws\") \n",
    "\n",
    "    return a_res, b_res \n"
   ]
  },
  {
   "cell_type": "code",
   "execution_count": null,
   "id": "19658aaa-d03f-49b4-ba42-60a10876f3e7",
   "metadata": {},
   "outputs": [],
   "source": [
    "ro16_matches.index = range(ro16_matches.shape[0])\n",
    "correct_draws(ro16_matches)\n",
    "ro16_matches"
   ]
  },
  {
   "cell_type": "code",
   "execution_count": null,
   "id": "57c97203-433b-4f85-a300-011b6639c3e6",
   "metadata": {},
   "outputs": [],
   "source": []
  },
  {
   "cell_type": "markdown",
   "id": "e0cb0bdd-3f20-4081-9f50-b09f94e54c36",
   "metadata": {},
   "source": [
    "### Predciting Quarter-finals\n",
    "\n"
   ]
  },
  {
   "cell_type": "code",
   "execution_count": null,
   "id": "3e87d050-b752-44b5-b5e8-39a85a81570f",
   "metadata": {},
   "outputs": [],
   "source": [
    "qf_matches = pd.DataFrame(data=mInfo)\n",
    "qf_matches.insert(0, \"mNumber\", [0])\n",
    "qf_matches = qf_matches.drop(index=0)"
   ]
  },
  {
   "cell_type": "code",
   "execution_count": null,
   "id": "b6aab88f-9876-4c5b-a723-4196906047ec",
   "metadata": {},
   "outputs": [],
   "source": [
    "for lineup in qf_lineups: \n",
    "    mDate = lineup.find(\"div\", class_=\"fdate\").find(\"span\", class_=\"bday\").text\n",
    "    parA = int(lineup.find(\"th\", class_=\"fhome\").text[-2:])\n",
    "    mNum = int(lineup.find(\"th\", class_=\"fscore\").a.text[-2:])\n",
    "    parB = int(lineup.find(\"th\", class_=\"faway\").text[-2:])\n",
    "    \n",
    "    teamA = ro16_matches.loc[(ro16_matches[\"mNumber\"] == parA) & (ro16_matches[\"pred\"] == \"W\")][\"team\"].to_string().split(\" \")[-1]\n",
    "    teamB = ro16_matches.loc[(ro16_matches[\"mNumber\"] == parB) & (ro16_matches[\"pred\"] == \"W\")][\"team\"].to_string().split(\" \")[-1]\n",
    "\n",
    "    qf_matches.loc[-1] = [mNum, teamA, teamB, mDate, \"Quarter-finals\", \"Knockout Round\", \"Euros 2024\", d_Teams[teamA], d_Opp[teamB], d_Matches[\"Quarter-finals\"], d_SoC[\"Knockout Round\"]]\n",
    "    qf_matches.index += 1\n",
    "    qf_matches.loc[-1] = [mNum, teamB, teamA, mDate, \"Quarter-finals\", \"Knockout Round\", \"Euros 2024\", d_Teams[teamB], d_Opp[teamA], d_Matches[\"Quarter-finals\"], d_SoC[\"Knockout Round\"]]\n",
    "    qf_matches.index += 1"
   ]
  },
  {
   "cell_type": "code",
   "execution_count": null,
   "id": "dce3bab4-97e2-42f4-b1ac-452dc685ab48",
   "metadata": {},
   "outputs": [],
   "source": [
    "qf_matches"
   ]
  },
  {
   "cell_type": "code",
   "execution_count": null,
   "id": "4a5dcae3-539b-4821-b1cc-df3a7814684e",
   "metadata": {},
   "outputs": [],
   "source": [
    "qf_preds, qf_ps, qf_acc = run_prediction(qf_matches, cMatches, [\"tCode\", \"oppCode\", \"mCode\", \"socCode\"])\n",
    "print(ro16_preds, qf_ps, qf_acc)\n",
    "qf_matches[\"pred\"] = [ pointsR[pred] for pred in qf_preds]"
   ]
  },
  {
   "cell_type": "code",
   "execution_count": null,
   "id": "f8141e0d-97b8-4c64-8b8a-01826fd3c403",
   "metadata": {},
   "outputs": [],
   "source": [
    "qf_matches.index = range(qf_matches.shape[0])\n",
    "correct_draws(qf_matches)\n",
    "qf_matches"
   ]
  },
  {
   "cell_type": "markdown",
   "id": "afd045b2-61fc-4eaf-94fa-4cba3a907d9a",
   "metadata": {},
   "source": [
    "### Predicting the Semi's "
   ]
  },
  {
   "cell_type": "code",
   "execution_count": null,
   "id": "e0ace542-3d17-4cd3-b79d-b66d26239087",
   "metadata": {},
   "outputs": [],
   "source": [
    "sf_matches = pd.DataFrame(data=mInfo)\n",
    "sf_matches.insert(0, \"mNumber\", [0])\n",
    "sf_matches = sf_matches.drop(index=0)"
   ]
  },
  {
   "cell_type": "code",
   "execution_count": null,
   "id": "4c7587f0-cd0a-4782-9a20-5276825358b9",
   "metadata": {},
   "outputs": [],
   "source": [
    "for lineup in sf_lineups: \n",
    "    mDate = lineup.find(\"div\", class_=\"fdate\").find(\"span\", class_=\"bday\").text\n",
    "    parA = int(lineup.find(\"th\", class_=\"fhome\").text[-2:])\n",
    "    mNum = int(lineup.find(\"th\", class_=\"fscore\").a.text[-2:])\n",
    "    parB = int(lineup.find(\"th\", class_=\"faway\").text[-2:])\n",
    "    \n",
    "    teamA = qf_matches.loc[(qf_matches[\"mNumber\"] == parA) & (qf_matches[\"pred\"] == \"W\")][\"team\"].to_string().split(\" \")[-1]\n",
    "    teamB = qf_matches.loc[(qf_matches[\"mNumber\"] == parB) & (qf_matches[\"pred\"] == \"W\")][\"team\"].to_string().split(\" \")[-1]\n",
    "\n",
    "    sf_matches.loc[-1] = [mNum, teamA, teamB, mDate, \"Semi-finals\", \"Knockout Round\", \"Euros 2024\", d_Teams[teamA], d_Opp[teamB], d_Matches[\"Semi-finals\"], d_SoC[\"Knockout Round\"]]\n",
    "    sf_matches.index += 1\n",
    "    sf_matches.loc[-1] = [mNum, teamB, teamA, mDate, \"Semi-finals\", \"Knockout Round\", \"Euros 2024\", d_Teams[teamB], d_Opp[teamA], d_Matches[\"Semi-finals\"], d_SoC[\"Knockout Round\"]]\n",
    "    sf_matches.index += 1"
   ]
  },
  {
   "cell_type": "code",
   "execution_count": null,
   "id": "d5747b6e-bf0d-4957-a634-7bb3c9c78c55",
   "metadata": {},
   "outputs": [],
   "source": [
    "sf_matches"
   ]
  },
  {
   "cell_type": "code",
   "execution_count": null,
   "id": "d68cc910-ad2d-49f1-93b6-d436309a16f5",
   "metadata": {},
   "outputs": [],
   "source": [
    "sf_preds, sf_ps, sf_acc = run_prediction(sf_matches, cMatches, [\"tCode\", \"oppCode\", \"mCode\", \"socCode\"])\n",
    "print(sf_preds, sf_ps, sf_acc)\n",
    "sf_matches[\"pred\"] = [pointsR[pred] for pred in sf_preds]"
   ]
  },
  {
   "cell_type": "code",
   "execution_count": null,
   "id": "15296972-9fe3-4b47-8b30-79328c403b75",
   "metadata": {},
   "outputs": [],
   "source": [
    "sf_matches.index = range(sf_matches.shape[0])\n",
    "correct_draws(sf_matches)\n",
    "sf_matches"
   ]
  },
  {
   "cell_type": "code",
   "execution_count": null,
   "id": "201046f8-b135-4659-8feb-228561ed427e",
   "metadata": {},
   "outputs": [],
   "source": [
    "f_match = pd.DataFrame(data=mInfo)\n",
    "f_match.insert(0, \"mNumber\", [0])\n",
    "f_match = f_match.drop(index = 0)"
   ]
  },
  {
   "cell_type": "code",
   "execution_count": null,
   "id": "0a88b39a-c337-4a88-ae9e-149e9624b77b",
   "metadata": {},
   "outputs": [],
   "source": [
    "fDate = f_lineup.find(\"div\", class_=\"fdate\").find(\"span\", class_=\"bday\").text\n",
    "fparA = int(f_lineup.find(\"th\", class_=\"fhome\").text[-2:])\n",
    "fmNum = int(f_lineup.find(\"th\", class_=\"fscore\").a.text[-2:])\n",
    "fparB = int(f_lineup.find(\"th\", class_=\"faway\").text[-2:])\n",
    "\n",
    "finalistA = sf_matches.loc[(sf_matches[\"mNumber\"] == fparA) & (sf_matches[\"pred\"] == \"W\")][\"team\"].to_string().split(\" \")[-1]\n",
    "finalistB = sf_matches.loc[(sf_matches[\"mNumber\"] == fparB) & (sf_matches[\"pred\"] == \"W\")][\"team\"].to_string().split(\" \")[-1]\n",
    "\n",
    "f_match.loc[-1] = [fmNum, finalistA, finalistB, fDate, \"Final\", \"Knockout Round\", \"Euros 2024\", d_Teams[finalistA], d_Opp[finalistB], d_Matches[\"Final\"], d_SoC[\"Knockout Round\"]]\n",
    "f_match.index += 1\n",
    "f_match.loc[-1] = [fmNum, finalistB, finalistA, fDate, \"Final\", \"Knockout Round\", \"Euros 2024\", d_Teams[finalistB], d_Opp[finalistA], d_Matches[\"Final\"], d_SoC[\"Knockout Round\"]]\n",
    "f_match.index += 1"
   ]
  },
  {
   "cell_type": "code",
   "execution_count": null,
   "id": "2afd08ad-7d39-4406-935b-9941fef7e913",
   "metadata": {},
   "outputs": [],
   "source": [
    "f_match"
   ]
  },
  {
   "cell_type": "code",
   "execution_count": null,
   "id": "3250025e-302c-4094-8459-2be10f4f7819",
   "metadata": {},
   "outputs": [],
   "source": [
    "f_pred, f_ps, f_acc = run_prediction(f_match, cMatches, [\"tCode\", \"oppCode\", \"mCode\", \"socCode\"])\n",
    "print(f_pred, f_ps, f_acc)\n",
    "f_match[\"pred\"] = [pointsR[pred] for pred in f_pred]"
   ]
  },
  {
   "cell_type": "code",
   "execution_count": null,
   "id": "8f90d754-6fad-4aa9-8e4d-3a58b6bc4707",
   "metadata": {},
   "outputs": [],
   "source": [
    "f_match.index = range(f_match.shape[0])\n",
    "correct_draws(f_match)\n",
    "f_match"
   ]
  },
  {
   "cell_type": "markdown",
   "id": "f90516a6-923e-46fe-9e26-b1075751dd2f",
   "metadata": {},
   "source": [
    "## The Euros 2024 Reported \n",
    "\n",
    "Now, all that's left is to formatt them into a pretty csv "
   ]
  },
  {
   "cell_type": "code",
   "execution_count": null,
   "id": "ed54231d-607d-48ed-899a-91387af1e003",
   "metadata": {},
   "outputs": [],
   "source": [
    "dummytable = {\"stage\": [\"filler\"],\n",
    "              \"team_a\": [\"filler\"], \n",
    "              \"res_a\": [\"filler\"],\n",
    "              \"res_b\": [\"filler\"],\n",
    "              \"team_b\": [\"filler\"],\n",
    "              \"date\": [pd.NA]} \n",
    "\n",
    "euros_2024 = pd.DataFrame(data=dummytable) \n",
    "euros_2024 = euros_2024.drop(index=0)\n",
    "\n",
    "## group stage\n",
    "for g, table in enumerate(en_tables): \n",
    "    for index in range(table.shape[0]):\n",
    "        if index % 2 == 0: \n",
    "            euros_2024.loc[-1] = [f\"Group {groups[g]}\", table.loc[index, \"team\"], table.loc[index, \"correctedPred\"], table.loc[index+1, \"correctedPred\"], table.loc[index, \"opponent\"], table.loc[index,\"mDate\"]]\n",
    "            euros_2024.index += 1\n",
    "        index += 1\n",
    "\n",
    "## ro16 \n",
    "for r, row in ro16_matches.iterrows(): \n",
    "    if r % 2 == 0: \n",
    "        euros_2024.loc[-1] = [\"Round of 16\", row[\"team\"], row[\"pred\"], ro16_matches.loc[r+1, \"pred\"], row[\"opponent\"], row[\"mDate\"]]\n",
    "        euros_2024.index += 1\n",
    "## qf\n",
    "for r, row in qf_matches.iterrows(): \n",
    "    if r % 2 == 0: \n",
    "        euros_2024.loc[-1] = [\"Quarter-finals\", row[\"team\"], row[\"pred\"], qf_matches.loc[r+1, \"pred\"], row[\"opponent\"], row[\"mDate\"]]\n",
    "        euros_2024.index += 1\n",
    "\n",
    "## sf\n",
    "for r, row in sf_matches.iterrows(): \n",
    "    if r % 2 == 0: \n",
    "        euros_2024.loc[-1] = [\"Semi-finals\", row[\"team\"], row[\"pred\"], sf_matches.loc[r+1, \"pred\"], row[\"opponent\"], row[\"mDate\"]]\n",
    "        euros_2024.index += 1\n",
    "\n",
    "## f\n",
    "for r, row in f_match.iterrows(): \n",
    "    if r % 2 == 0: \n",
    "        euros_2024.loc[-1] = [\"Final\", row[\"team\"], row[\"pred\"], f_match.loc[r+1, \"pred\"], row[\"opponent\"], row[\"mDate\"]]\n",
    "        euros_2024.index += 1\n",
    "\n",
    "euros_2024.index = range(euros_2024.shape[0])\n",
    "euros_2024[\"date\"] = pd.to_datetime(euros_2024[\"date\"])"
   ]
  },
  {
   "cell_type": "code",
   "execution_count": null,
   "id": "3089aa5b-c3a9-4e08-bb47-4bd6a1cd37a1",
   "metadata": {},
   "outputs": [],
   "source": [
    "euros_2024 = euros_2024.groupby(\"stage\").apply(lambda x: x, include_groups=False)\n",
    "euros_2024 = euros_2024.sort_index(level=1)\n",
    "euros_2024"
   ]
  },
  {
   "cell_type": "code",
   "execution_count": null,
   "id": "4b78c33a-b412-48ed-ac12-84267cdce685",
   "metadata": {},
   "outputs": [],
   "source": [
    "import os\n",
    "\n",
    "trial = 0 \n",
    "e_file = f\"./predictions/match_preds/t{trial}_euros2024.csv\"\n",
    "while(os.path.isfile(e_file)):\n",
    "    e_file = f\"./predictions/match_preds/t{trial}_euros2024.csv\"\n",
    "    trial+= 1\n",
    "euros_2024.to_csv(e_file)"
   ]
  }
 ],
 "metadata": {
  "kernelspec": {
   "display_name": "Python 3 (ipykernel)",
   "language": "python",
   "name": "python3"
  },
  "language_info": {
   "codemirror_mode": {
    "name": "ipython",
    "version": 3
   },
   "file_extension": ".py",
   "mimetype": "text/x-python",
   "name": "python",
   "nbconvert_exporter": "python",
   "pygments_lexer": "ipython3",
   "version": "3.11.7"
  }
 },
 "nbformat": 4,
 "nbformat_minor": 5
}
