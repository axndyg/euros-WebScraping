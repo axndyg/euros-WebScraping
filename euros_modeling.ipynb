{
 "cells": [
  {
   "cell_type": "markdown",
   "id": "f2318790-5a43-4a52-910c-dcd58c7b9b55",
   "metadata": {},
   "source": [
    "## Modeling with a Dataframe\n",
    "\n",
    "After webscraping all of the Euros data and formatting into a dataframe then csv in my [euros_scraping.ipynb](http://localhost:8888/files/Documents/Coding/Notebooks/repos/euros-WebScraping/euros_scraping.ipynb?_xsrf=2%7C8c3fecd8%7C02d37b9b4c7c7af0dd7bca94af94aa7f%7C1716421226) notebook, I will now attempt to perform Modeling and predictions\n",
    "\n",
    "THe hope is I scraped the relevant data, having all results recorded from Euro's and Euro's qualifiers into the csv.\n",
    "\n",
    "In this notebook, I will use pandas as the main method of modeling this data."
   ]
  },
  {
   "cell_type": "code",
   "execution_count": 70,
   "id": "e2bdf98e-2641-4434-bce2-f53d4197b5e3",
   "metadata": {},
   "outputs": [],
   "source": [
    "import pandas as pd"
   ]
  },
  {
   "cell_type": "code",
   "execution_count": 71,
   "id": "a00c344b-3a63-43c5-838d-fd9ba2221dfb",
   "metadata": {},
   "outputs": [],
   "source": [
    "matches = pd.read_csv(\"euros.csv\", index_col=0)\n",
    "matches[\"mDate\"] = pd.to_datetime(matches[\"mDate\"], format=\"%d.%m.%y\")\n",
    "matches.loc[matches[\"mDate\"].dt.year > 2024, \"mDate\"] -= pd.DateOffset(years=100) \n",
    "\n",
    "# necesssary to offset pre-2000 mDates being interpreted as 20%yy (10.05.59 as 1959)"
   ]
  },
  {
   "cell_type": "code",
   "execution_count": 72,
   "id": "88ecee1f-950b-40dd-9867-f122b6bb1ac4",
   "metadata": {},
   "outputs": [
    {
     "data": {
      "text/plain": [
       "hTeam\n",
       "Italy       84\n",
       "Germany     84\n",
       "Spain       83\n",
       "Denmark     81\n",
       "Portugal    80\n",
       "Name: count, dtype: int64"
      ]
     },
     "execution_count": 72,
     "metadata": {},
     "output_type": "execute_result"
    }
   ],
   "source": [
    "matches[\"hTeam\"].value_counts().head()"
   ]
  },
  {
   "cell_type": "code",
   "execution_count": 73,
   "id": "5cb9700a-3138-4712-9a94-99d66ff3f758",
   "metadata": {},
   "outputs": [
    {
     "data": {
      "text/plain": [
       "aTeam\n",
       "Spain          88\n",
       "Italy          79\n",
       "Netherlands    77\n",
       "Denmark        76\n",
       "Portugal       76\n",
       "Name: count, dtype: int64"
      ]
     },
     "execution_count": 73,
     "metadata": {},
     "output_type": "execute_result"
    }
   ],
   "source": [
    "matches[\"aTeam\"].value_counts().head()"
   ]
  },
  {
   "cell_type": "markdown",
   "id": "8fd46ee8-da4e-42e7-a236-6a1c6f8cf7ed",
   "metadata": {},
   "source": [
    "### Next Steps \n",
    "\n",
    "Currently, a single National team's data is split between home and away sections. For example, when we scraped the page data, sometimes Italy was listed as the left team and sometimes it was listed as the right team.\n",
    "\n",
    "For brevity, I selected to set Italy as the home team whenever it appeared on the left and designated it as the away team when it appeared on the right.\n",
    "\n",
    "It will be better to reorganize the data, coalescing all of Italy's matches together, re-stiching the data from\n",
    "\n",
    "> hTeam --> team <BR>\n",
    "> hGoals --> gScored <BR>\n",
    "> hPenalties --> pScored <BR>\n",
    "> hResult --> result <BR>\n",
    "> aTeam --> opponent <BR>\n",
    "> aGoals --> gAllowed <BR>\n",
    "> aPenalties --> pAllowed <BR>\n",
    "\n",
    "This will be difficult and require duplicate row data <br>\n",
    "(i.e Italy as home team, Denmark as away, recording same match data for both in their own \"team\" as opposite's \"opponent\" so we can focus on a Nation's individual performance)\n",
    "\n",
    "Instead of manipulating our current dataframe, it may be best to update into a new dataframe"
   ]
  },
  {
   "cell_type": "code",
   "execution_count": 74,
   "id": "a49dca5b-8773-409e-85e1-6d49be824f4d",
   "metadata": {},
   "outputs": [
    {
     "data": {
      "text/html": [
       "<div>\n",
       "<style scoped>\n",
       "    .dataframe tbody tr th:only-of-type {\n",
       "        vertical-align: middle;\n",
       "    }\n",
       "\n",
       "    .dataframe tbody tr th {\n",
       "        vertical-align: top;\n",
       "    }\n",
       "\n",
       "    .dataframe thead th {\n",
       "        text-align: right;\n",
       "    }\n",
       "</style>\n",
       "<table border=\"1\" class=\"dataframe\">\n",
       "  <thead>\n",
       "    <tr style=\"text-align: right;\">\n",
       "      <th></th>\n",
       "      <th>team</th>\n",
       "      <th>opponent</th>\n",
       "      <th>result</th>\n",
       "      <th>goals</th>\n",
       "      <th>gAllowed</th>\n",
       "      <th>penalties</th>\n",
       "      <th>pAllowed</th>\n",
       "      <th>mDate</th>\n",
       "      <th>mType</th>\n",
       "      <th>comp</th>\n",
       "    </tr>\n",
       "  </thead>\n",
       "  <tbody>\n",
       "  </tbody>\n",
       "</table>\n",
       "</div>"
      ],
      "text/plain": [
       "Empty DataFrame\n",
       "Columns: [team, opponent, result, goals, gAllowed, penalties, pAllowed, mDate, mType, comp]\n",
       "Index: []"
      ]
     },
     "execution_count": 74,
     "metadata": {},
     "output_type": "execute_result"
    }
   ],
   "source": [
    "# comp | mType | team | opponent | result | goals | gAllowed | penalties | pAllowed | mDate\n",
    "mInfo = {\"team\": [\"filler\"], \"opponent\": [\"fller\"],\n",
    "        \"result\": ['f'], \"goals\": [1.1], \"gAllowed\": [1.1], \n",
    "        \"penalties\": [1.1], \"pAllowed\": [1.1], \"mDate\": [pd.NA], \n",
    "        'mType': [\"filler\"], 'comp': [\"filler\"],}\n",
    "cMatches = pd.DataFrame(data=mInfo)\n",
    "cMatches[[\"mDate\"]] = cMatches[[\"mDate\"]].astype(\"datetime64[ns]\")\n",
    "cMatches = cMatches.drop(index=0)\n",
    "cMatches"
   ]
  },
  {
   "cell_type": "code",
   "execution_count": 75,
   "id": "f961149d-6a4e-426b-afc7-4b144367f314",
   "metadata": {},
   "outputs": [],
   "source": [
    "for index, row in matches.iterrows():\n",
    "    cMatches.loc[-1] = [row[\"hTeam\"], row[\"aTeam\"], row[\"hResult\"], row[\"hGoals\"], row[\"aGoals\"], row[\"hPenalties\"], row[\"aPenalties\"], row[\"mDate\"], row[\"mType\"], row[\"comp\"], ]\n",
    "    cMatches.index += 1\n",
    "    cMatches.loc[-1] = [row[\"aTeam\"], row[\"hTeam\"], row[\"aResult\"], row[\"aGoals\"], row[\"hGoals\"], row[\"aPenalties\"], row[\"hPenalties\"], row[\"mDate\"], row[\"mType\"], row[\"comp\"]]\n",
    "    cMatches.index += 1\n",
    "cMatches.index = list(range(len(cMatches[\"team\"])))"
   ]
  },
  {
   "cell_type": "code",
   "execution_count": 76,
   "id": "2b35b7e1-699c-4a70-8942-35db2b88ab9b",
   "metadata": {},
   "outputs": [
    {
     "data": {
      "text/html": [
       "<div>\n",
       "<style scoped>\n",
       "    .dataframe tbody tr th:only-of-type {\n",
       "        vertical-align: middle;\n",
       "    }\n",
       "\n",
       "    .dataframe tbody tr th {\n",
       "        vertical-align: top;\n",
       "    }\n",
       "\n",
       "    .dataframe thead th {\n",
       "        text-align: right;\n",
       "    }\n",
       "</style>\n",
       "<table border=\"1\" class=\"dataframe\">\n",
       "  <thead>\n",
       "    <tr style=\"text-align: right;\">\n",
       "      <th></th>\n",
       "      <th>team</th>\n",
       "      <th>opponent</th>\n",
       "      <th>result</th>\n",
       "      <th>goals</th>\n",
       "      <th>gAllowed</th>\n",
       "      <th>penalties</th>\n",
       "      <th>pAllowed</th>\n",
       "      <th>mDate</th>\n",
       "      <th>mType</th>\n",
       "      <th>comp</th>\n",
       "    </tr>\n",
       "  </thead>\n",
       "  <tbody>\n",
       "    <tr>\n",
       "      <th>0</th>\n",
       "      <td>Georgia</td>\n",
       "      <td>Greece</td>\n",
       "      <td>W</td>\n",
       "      <td>0</td>\n",
       "      <td>0</td>\n",
       "      <td>4.0</td>\n",
       "      <td>2.0</td>\n",
       "      <td>2024-03-26</td>\n",
       "      <td>Final</td>\n",
       "      <td>Euros 2024, Qualifiers</td>\n",
       "    </tr>\n",
       "    <tr>\n",
       "      <th>1</th>\n",
       "      <td>Greece</td>\n",
       "      <td>Georgia</td>\n",
       "      <td>L</td>\n",
       "      <td>0</td>\n",
       "      <td>0</td>\n",
       "      <td>2.0</td>\n",
       "      <td>4.0</td>\n",
       "      <td>2024-03-26</td>\n",
       "      <td>Final</td>\n",
       "      <td>Euros 2024, Qualifiers</td>\n",
       "    </tr>\n",
       "    <tr>\n",
       "      <th>2</th>\n",
       "      <td>Wales</td>\n",
       "      <td>Poland</td>\n",
       "      <td>L</td>\n",
       "      <td>0</td>\n",
       "      <td>0</td>\n",
       "      <td>4.0</td>\n",
       "      <td>5.0</td>\n",
       "      <td>2024-03-26</td>\n",
       "      <td>Final</td>\n",
       "      <td>Euros 2024, Qualifiers</td>\n",
       "    </tr>\n",
       "    <tr>\n",
       "      <th>3</th>\n",
       "      <td>Poland</td>\n",
       "      <td>Wales</td>\n",
       "      <td>W</td>\n",
       "      <td>0</td>\n",
       "      <td>0</td>\n",
       "      <td>5.0</td>\n",
       "      <td>4.0</td>\n",
       "      <td>2024-03-26</td>\n",
       "      <td>Final</td>\n",
       "      <td>Euros 2024, Qualifiers</td>\n",
       "    </tr>\n",
       "    <tr>\n",
       "      <th>4</th>\n",
       "      <td>Ukraine</td>\n",
       "      <td>Iceland</td>\n",
       "      <td>W</td>\n",
       "      <td>2</td>\n",
       "      <td>1</td>\n",
       "      <td>NaN</td>\n",
       "      <td>NaN</td>\n",
       "      <td>2024-03-26</td>\n",
       "      <td>Final</td>\n",
       "      <td>Euros 2024, Qualifiers</td>\n",
       "    </tr>\n",
       "  </tbody>\n",
       "</table>\n",
       "</div>"
      ],
      "text/plain": [
       "      team opponent result  goals  gAllowed  penalties  pAllowed      mDate  \\\n",
       "0  Georgia   Greece      W      0         0        4.0       2.0 2024-03-26   \n",
       "1   Greece  Georgia      L      0         0        2.0       4.0 2024-03-26   \n",
       "2    Wales   Poland      L      0         0        4.0       5.0 2024-03-26   \n",
       "3   Poland    Wales      W      0         0        5.0       4.0 2024-03-26   \n",
       "4  Ukraine  Iceland      W      2         1        NaN       NaN 2024-03-26   \n",
       "\n",
       "   mType                    comp  \n",
       "0  Final  Euros 2024, Qualifiers  \n",
       "1  Final  Euros 2024, Qualifiers  \n",
       "2  Final  Euros 2024, Qualifiers  \n",
       "3  Final  Euros 2024, Qualifiers  \n",
       "4  Final  Euros 2024, Qualifiers  "
      ]
     },
     "execution_count": 76,
     "metadata": {},
     "output_type": "execute_result"
    }
   ],
   "source": [
    "cMatches.head()"
   ]
  },
  {
   "cell_type": "code",
   "execution_count": 77,
   "id": "41a93488-d4ce-4e67-9342-be1b57274a25",
   "metadata": {},
   "outputs": [
    {
     "data": {
      "text/html": [
       "<div>\n",
       "<style scoped>\n",
       "    .dataframe tbody tr th:only-of-type {\n",
       "        vertical-align: middle;\n",
       "    }\n",
       "\n",
       "    .dataframe tbody tr th {\n",
       "        vertical-align: top;\n",
       "    }\n",
       "\n",
       "    .dataframe thead th {\n",
       "        text-align: right;\n",
       "    }\n",
       "</style>\n",
       "<table border=\"1\" class=\"dataframe\">\n",
       "  <thead>\n",
       "    <tr style=\"text-align: right;\">\n",
       "      <th></th>\n",
       "      <th>team</th>\n",
       "      <th>opponent</th>\n",
       "      <th>result</th>\n",
       "      <th>goals</th>\n",
       "      <th>gAllowed</th>\n",
       "      <th>penalties</th>\n",
       "      <th>pAllowed</th>\n",
       "      <th>mDate</th>\n",
       "      <th>mType</th>\n",
       "      <th>comp</th>\n",
       "    </tr>\n",
       "  </thead>\n",
       "  <tbody>\n",
       "    <tr>\n",
       "      <th>6089</th>\n",
       "      <td>Denmark</td>\n",
       "      <td>ČSSR</td>\n",
       "      <td>L</td>\n",
       "      <td>1</td>\n",
       "      <td>5</td>\n",
       "      <td>NaN</td>\n",
       "      <td>NaN</td>\n",
       "      <td>1959-10-18</td>\n",
       "      <td>Round of 16</td>\n",
       "      <td>Euros 1960</td>\n",
       "    </tr>\n",
       "    <tr>\n",
       "      <th>6090</th>\n",
       "      <td>Ireland</td>\n",
       "      <td>ČSSR</td>\n",
       "      <td>W</td>\n",
       "      <td>2</td>\n",
       "      <td>0</td>\n",
       "      <td>NaN</td>\n",
       "      <td>NaN</td>\n",
       "      <td>1959-04-05</td>\n",
       "      <td>Qualifying Round</td>\n",
       "      <td>Euros 1960</td>\n",
       "    </tr>\n",
       "    <tr>\n",
       "      <th>6091</th>\n",
       "      <td>ČSSR</td>\n",
       "      <td>Ireland</td>\n",
       "      <td>L</td>\n",
       "      <td>0</td>\n",
       "      <td>2</td>\n",
       "      <td>NaN</td>\n",
       "      <td>NaN</td>\n",
       "      <td>1959-04-05</td>\n",
       "      <td>Qualifying Round</td>\n",
       "      <td>Euros 1960</td>\n",
       "    </tr>\n",
       "    <tr>\n",
       "      <th>6092</th>\n",
       "      <td>ČSSR</td>\n",
       "      <td>Ireland</td>\n",
       "      <td>W</td>\n",
       "      <td>4</td>\n",
       "      <td>0</td>\n",
       "      <td>NaN</td>\n",
       "      <td>NaN</td>\n",
       "      <td>1959-05-10</td>\n",
       "      <td>Qualifying Round</td>\n",
       "      <td>Euros 1960</td>\n",
       "    </tr>\n",
       "    <tr>\n",
       "      <th>6093</th>\n",
       "      <td>Ireland</td>\n",
       "      <td>ČSSR</td>\n",
       "      <td>L</td>\n",
       "      <td>0</td>\n",
       "      <td>4</td>\n",
       "      <td>NaN</td>\n",
       "      <td>NaN</td>\n",
       "      <td>1959-05-10</td>\n",
       "      <td>Qualifying Round</td>\n",
       "      <td>Euros 1960</td>\n",
       "    </tr>\n",
       "  </tbody>\n",
       "</table>\n",
       "</div>"
      ],
      "text/plain": [
       "         team opponent result  goals  gAllowed  penalties  pAllowed  \\\n",
       "6089  Denmark     ČSSR      L      1         5        NaN       NaN   \n",
       "6090  Ireland     ČSSR      W      2         0        NaN       NaN   \n",
       "6091     ČSSR  Ireland      L      0         2        NaN       NaN   \n",
       "6092     ČSSR  Ireland      W      4         0        NaN       NaN   \n",
       "6093  Ireland     ČSSR      L      0         4        NaN       NaN   \n",
       "\n",
       "          mDate             mType        comp  \n",
       "6089 1959-10-18       Round of 16  Euros 1960  \n",
       "6090 1959-04-05  Qualifying Round  Euros 1960  \n",
       "6091 1959-04-05  Qualifying Round  Euros 1960  \n",
       "6092 1959-05-10  Qualifying Round  Euros 1960  \n",
       "6093 1959-05-10  Qualifying Round  Euros 1960  "
      ]
     },
     "execution_count": 77,
     "metadata": {},
     "output_type": "execute_result"
    }
   ],
   "source": [
    "cMatches.tail()"
   ]
  },
  {
   "cell_type": "code",
   "execution_count": 78,
   "id": "30212040-e080-404e-abe9-e0b9776d5a57",
   "metadata": {},
   "outputs": [
    {
     "data": {
      "text/plain": [
       "team\n",
       "Spain          171\n",
       "Italy          163\n",
       "Denmark        157\n",
       "Portugal       156\n",
       "Netherlands    156\n",
       "Name: count, dtype: int64"
      ]
     },
     "execution_count": 78,
     "metadata": {},
     "output_type": "execute_result"
    }
   ],
   "source": [
    "cMatches[\"team\"].value_counts().head()"
   ]
  },
  {
   "cell_type": "markdown",
   "id": "d64e0320-82b5-49f5-aa61-eb64d6cf1587",
   "metadata": {},
   "source": [
    "## Setting category predictors\n",
    "\n",
    "Below, we are adding additional columns as metrics for predicting a match. A team may perform differently based on the match type of the competition and their competitor \n",
    "\n",
    "The target column is if a team achieved its desired result, \n",
    "\n",
    "> a \"W\" was desired, equating to a 1 <br>\n",
    "> a \"L\" or \"D\" was not desired, equating to a 0"
   ]
  },
  {
   "cell_type": "code",
   "execution_count": 79,
   "id": "778920da-4f08-4578-8426-a7b5a64eaa97",
   "metadata": {},
   "outputs": [],
   "source": [
    "cMatches[\"oppCode\"] = cMatches[\"opponent\"].astype(\"category\").cat.codes\n",
    "cMatches[\"mCode\"] = cMatches[\"mType\"].astype(\"category\").cat.codes"
   ]
  },
  {
   "cell_type": "code",
   "execution_count": 80,
   "id": "75471b1e-e7ea-4ed3-bbea-35fde22f193a",
   "metadata": {},
   "outputs": [],
   "source": [
    "cMatches[\"target\"] = (cMatches[\"result\"] == \"W\").astype(\"int\")"
   ]
  },
  {
   "cell_type": "markdown",
   "id": "e666466a-b17a-40d9-a8bb-1a5368cb201c",
   "metadata": {},
   "source": [
    "## Predictions \n",
    "With a RandomForestClassifer, we can run simulations with our category codes non-linearity,\n",
    "\n",
    "We then split from a \"trained\" and \"test\" dataframe \n",
    "\n",
    "> A Train dataframe to . . . train our rf model on our selected predictors (opponent and match type) to see what the expected result (target) would be in our test model <br>\n",
    "> A Test data frame to see how our predictions actually compare with that of the outcome "
   ]
  },
  {
   "cell_type": "code",
   "execution_count": 120,
   "id": "7d9c0e5f-2c43-4530-84d7-9bbad2dc1b80",
   "metadata": {},
   "outputs": [],
   "source": [
    "from sklearn.ensemble import RandomForestClassifier\n",
    "\n",
    "# associates non-linearity \n",
    "# i.e oppCode 22 doesn't imply numerical difference between oppCode 23\n",
    "# just categorical differences\n",
    "\n",
    "rf = RandomForestClassifier(n_estimators=50, min_samples_split=10, random_state=1)\n",
    "\n",
    "train_set = cMatches[cMatches[\"mDate\"] < \"2022-01-01\"] \n",
    "test_set = cMatches[cMatches[\"mDate\"] > \"2022-01-01\"]\n",
    "\n",
    "predictors = [\"oppCode\", \"mCode\"]\n",
    "\n",
    "rf.fit(train_set[predictors], train_set[\"target\"])\n",
    "# runs our forest model on known oppCode mCode combos, then we provide the result that came out of it \"target\"\n",
    "\n",
    "preds = rf.predict(test_set[predictors])\n",
    "# then with our test set, we produce a precition column on what result would be given oppCode and mCode"
   ]
  },
  {
   "cell_type": "markdown",
   "id": "07def941-b183-4a86-b18c-dd34ebd4a622",
   "metadata": {},
   "source": [
    "## Comparisons\n",
    "\n",
    "With our trained rf, we then create predictions based on the same metrics for the test data set\n",
    "\n",
    "Using the accuracy_score, we're able to see how often our trained model guessed correctlty"
   ]
  },
  {
   "cell_type": "code",
   "execution_count": 121,
   "id": "8bfdec8e-afd0-4cb5-a602-d5eb540692d8",
   "metadata": {},
   "outputs": [
    {
     "data": {
      "text/plain": [
       "0.698744769874477"
      ]
     },
     "execution_count": 121,
     "metadata": {},
     "output_type": "execute_result"
    }
   ],
   "source": [
    "from sklearn.metrics import accuracy_score\n",
    "\n",
    "# measures our predictions \n",
    "acc = accuracy_score(test_set[\"target\"], preds)\n",
    "acc\n",
    "\n",
    "# compares the likeness of each prediction to the actual result (target) and reports our accuracy"
   ]
  },
  {
   "cell_type": "code",
   "execution_count": 122,
   "id": "e7587a04-c9fc-4370-b63c-cad7110e0219",
   "metadata": {},
   "outputs": [
    {
     "data": {
      "text/html": [
       "<div>\n",
       "<style scoped>\n",
       "    .dataframe tbody tr th:only-of-type {\n",
       "        vertical-align: middle;\n",
       "    }\n",
       "\n",
       "    .dataframe tbody tr th {\n",
       "        vertical-align: top;\n",
       "    }\n",
       "\n",
       "    .dataframe thead th {\n",
       "        text-align: right;\n",
       "    }\n",
       "</style>\n",
       "<table border=\"1\" class=\"dataframe\">\n",
       "  <thead>\n",
       "    <tr style=\"text-align: right;\">\n",
       "      <th>prediction</th>\n",
       "      <th>0</th>\n",
       "      <th>1</th>\n",
       "    </tr>\n",
       "    <tr>\n",
       "      <th>actual</th>\n",
       "      <th></th>\n",
       "      <th></th>\n",
       "    </tr>\n",
       "  </thead>\n",
       "  <tbody>\n",
       "    <tr>\n",
       "      <th>0</th>\n",
       "      <td>213</td>\n",
       "      <td>69</td>\n",
       "    </tr>\n",
       "    <tr>\n",
       "      <th>1</th>\n",
       "      <td>75</td>\n",
       "      <td>121</td>\n",
       "    </tr>\n",
       "  </tbody>\n",
       "</table>\n",
       "</div>"
      ],
      "text/plain": [
       "prediction    0    1\n",
       "actual              \n",
       "0           213   69\n",
       "1            75  121"
      ]
     },
     "execution_count": 122,
     "metadata": {},
     "output_type": "execute_result"
    }
   ],
   "source": [
    "combined = pd.DataFrame(dict(actual=test_set[\"target\"], prediction=preds))\n",
    "pd.crosstab(index=combined[\"actual\"], columns=combined[\"prediction\"])"
   ]
  },
  {
   "cell_type": "code",
   "execution_count": 123,
   "id": "61ceee4a-df20-4474-9a9e-1cfcdb8455d6",
   "metadata": {},
   "outputs": [
    {
     "data": {
      "text/plain": [
       "0.6368421052631579"
      ]
     },
     "execution_count": 123,
     "metadata": {},
     "output_type": "execute_result"
    }
   ],
   "source": [
    "from sklearn.metrics import precision_score\n",
    "\n",
    "\"\"\"\n",
    "Precision Score then defined as \n",
    "\n",
    "    ps = tp / (tp + fp) \n",
    "\n",
    "    tp = true positive \n",
    "    fp = false positive \n",
    "\n",
    "Essentially reports the score \"how often did we correctly call a winning result\n",
    "\"\"\"\n",
    "\n",
    "precision_score(test_set[\"target\"], preds)"
   ]
  },
  {
   "cell_type": "markdown",
   "id": "a648579c-c11c-44a9-a4a6-97e953bc8232",
   "metadata": {},
   "source": [
    "## Predictions \n",
    "\n",
    "With our model, we will now predict the results of Group Stage Fixtures with our training model and move on from there until a winner is decided\n",
    "\n",
    "Here's what happening below \n",
    "\n",
    "1. Web-scraping for all the Group Stages in the Euros 2024\n",
    "2. Isolating to just the fiixtures\n",
    "3. Cleaning up given fixture table into our new tables\n",
    "4. Repeating the data twice per table (with swapped team and opponent)\n",
    "\n",
    "Now en_tables should be an array of our tables cleaned up with doubled match data\n"
   ]
  },
  {
   "cell_type": "code",
   "execution_count": 212,
   "id": "98a7d09b-ca05-472f-aab6-c8a819555d61",
   "metadata": {},
   "outputs": [],
   "source": [
    "import requests\n",
    "import io \n",
    "from bs4 import BeautifulSoup\n",
    "\n",
    "e_2024 = \"https://terrikon.com/en/euro-2024\"\n",
    "e_2024_page = requests.get(e_2024)\n",
    "e_html = e_2024_page.text\n",
    "\n",
    "e_tables = pd.read_html(io.StringIO(e_html))\n",
    "group_tables = [table for table in e_tables if table.shape[0] != 6]\n",
    "group_tables = [table.drop([\"Unnamed: 0\", \"G\", \"S\", \"M\"], axis=1) for table in group_tables]\n",
    "group_tables = [table.rename(columns={\"Unnamed: 1\": \"Team\"}) for table in group_tables]\n",
    "lineup_tables = [table for table in e_tables if table.shape[0] == 6]\n",
    "en_tables = [] \n",
    "\n",
    "mInfo = {\"team\": [\"filler\"], \"opponent\": [\"fller\"],  \"mDate\": [pd.NA], \n",
    "        'mType': [\"filler\"], 'comp': [\"filler\"]}\n",
    "for table in lineup_tables:\n",
    "    f_table = pd.DataFrame(data=mInfo)\n",
    "    f_table = f_table.drop(index=0)\n",
    "    table[5] = pd.to_datetime(matches[\"mDate\"], format=\"%d.%m.%y %h:%m\")\n",
    "    for index, row in table.iterrows():\n",
    "        f_table.loc[-1] = [row[1], row[3], row[5], \"Group Stage\", \"Euros 2024\"]\n",
    "        f_table.index += 1\n",
    "        f_table.loc[-1] = [row[3], row[1], row[5], \"Group Stage\", \"Euros 2024\"]\n",
    "        f_table.index += 1\n",
    "    en_tables.append(f_table)\n"
   ]
  },
  {
   "cell_type": "markdown",
   "id": "3f538ba6-7965-4bbf-b141-d00c422614f6",
   "metadata": {},
   "source": [
    "## Predicting Group Stage \n",
    "\n",
    "Per table, we are now going to produce a prediction column to see who the result of the match.\n",
    "\n",
    "Should the same-matchup produce different results, we will chalk it up as a tie\n",
    "\n"
   ]
  },
  {
   "cell_type": "code",
   "execution_count": 225,
   "id": "e361b673-afaa-478d-bbca-37eac102d4f8",
   "metadata": {},
   "outputs": [
    {
     "data": {
      "text/html": [
       "<div>\n",
       "<style scoped>\n",
       "    .dataframe tbody tr th:only-of-type {\n",
       "        vertical-align: middle;\n",
       "    }\n",
       "\n",
       "    .dataframe tbody tr th {\n",
       "        vertical-align: top;\n",
       "    }\n",
       "\n",
       "    .dataframe thead th {\n",
       "        text-align: right;\n",
       "    }\n",
       "</style>\n",
       "<table border=\"1\" class=\"dataframe\">\n",
       "  <thead>\n",
       "    <tr style=\"text-align: right;\">\n",
       "      <th></th>\n",
       "      <th>Team</th>\n",
       "      <th>W</th>\n",
       "      <th>D</th>\n",
       "      <th>L</th>\n",
       "      <th>-</th>\n",
       "      <th>Pts</th>\n",
       "    </tr>\n",
       "  </thead>\n",
       "  <tbody>\n",
       "    <tr>\n",
       "      <th>0</th>\n",
       "      <td>Switzerland</td>\n",
       "      <td>0</td>\n",
       "      <td>0</td>\n",
       "      <td>0</td>\n",
       "      <td>-</td>\n",
       "      <td>0</td>\n",
       "    </tr>\n",
       "    <tr>\n",
       "      <th>1</th>\n",
       "      <td>Hungary</td>\n",
       "      <td>0</td>\n",
       "      <td>0</td>\n",
       "      <td>0</td>\n",
       "      <td>-</td>\n",
       "      <td>0</td>\n",
       "    </tr>\n",
       "    <tr>\n",
       "      <th>2</th>\n",
       "      <td>Scotland</td>\n",
       "      <td>0</td>\n",
       "      <td>0</td>\n",
       "      <td>0</td>\n",
       "      <td>-</td>\n",
       "      <td>0</td>\n",
       "    </tr>\n",
       "    <tr>\n",
       "      <th>3</th>\n",
       "      <td>Germany</td>\n",
       "      <td>0</td>\n",
       "      <td>0</td>\n",
       "      <td>0</td>\n",
       "      <td>-</td>\n",
       "      <td>0</td>\n",
       "    </tr>\n",
       "  </tbody>\n",
       "</table>\n",
       "</div>"
      ],
      "text/plain": [
       "          Team  W  D  L  -  Pts\n",
       "0  Switzerland  0  0  0  -    0\n",
       "1      Hungary  0  0  0  -    0\n",
       "2     Scotland  0  0  0  -    0\n",
       "3      Germany  0  0  0  -    0"
      ]
     },
     "execution_count": 225,
     "metadata": {},
     "output_type": "execute_result"
    }
   ],
   "source": [
    "group_tables[0]"
   ]
  },
  {
   "cell_type": "code",
   "execution_count": 226,
   "id": "af81b240-da05-48fe-ab10-aa60f80193ff",
   "metadata": {},
   "outputs": [
    {
     "data": {
      "text/html": [
       "<div>\n",
       "<style scoped>\n",
       "    .dataframe tbody tr th:only-of-type {\n",
       "        vertical-align: middle;\n",
       "    }\n",
       "\n",
       "    .dataframe tbody tr th {\n",
       "        vertical-align: top;\n",
       "    }\n",
       "\n",
       "    .dataframe thead th {\n",
       "        text-align: right;\n",
       "    }\n",
       "</style>\n",
       "<table border=\"1\" class=\"dataframe\">\n",
       "  <thead>\n",
       "    <tr style=\"text-align: right;\">\n",
       "      <th></th>\n",
       "      <th>team</th>\n",
       "      <th>opponent</th>\n",
       "      <th>mDate</th>\n",
       "      <th>mType</th>\n",
       "      <th>comp</th>\n",
       "    </tr>\n",
       "  </thead>\n",
       "  <tbody>\n",
       "    <tr>\n",
       "      <th>11</th>\n",
       "      <td>Germany</td>\n",
       "      <td>Scotland</td>\n",
       "      <td>2024-03-26</td>\n",
       "      <td>Group Stage</td>\n",
       "      <td>Euros 2024</td>\n",
       "    </tr>\n",
       "    <tr>\n",
       "      <th>10</th>\n",
       "      <td>Scotland</td>\n",
       "      <td>Germany</td>\n",
       "      <td>2024-03-26</td>\n",
       "      <td>Group Stage</td>\n",
       "      <td>Euros 2024</td>\n",
       "    </tr>\n",
       "    <tr>\n",
       "      <th>9</th>\n",
       "      <td>Hungary</td>\n",
       "      <td>Switzerland</td>\n",
       "      <td>2024-03-26</td>\n",
       "      <td>Group Stage</td>\n",
       "      <td>Euros 2024</td>\n",
       "    </tr>\n",
       "    <tr>\n",
       "      <th>8</th>\n",
       "      <td>Switzerland</td>\n",
       "      <td>Hungary</td>\n",
       "      <td>2024-03-26</td>\n",
       "      <td>Group Stage</td>\n",
       "      <td>Euros 2024</td>\n",
       "    </tr>\n",
       "    <tr>\n",
       "      <th>7</th>\n",
       "      <td>Germany</td>\n",
       "      <td>Hungary</td>\n",
       "      <td>2024-03-26</td>\n",
       "      <td>Group Stage</td>\n",
       "      <td>Euros 2024</td>\n",
       "    </tr>\n",
       "    <tr>\n",
       "      <th>6</th>\n",
       "      <td>Hungary</td>\n",
       "      <td>Germany</td>\n",
       "      <td>2024-03-26</td>\n",
       "      <td>Group Stage</td>\n",
       "      <td>Euros 2024</td>\n",
       "    </tr>\n",
       "    <tr>\n",
       "      <th>5</th>\n",
       "      <td>Scotland</td>\n",
       "      <td>Switzerland</td>\n",
       "      <td>2024-03-21</td>\n",
       "      <td>Group Stage</td>\n",
       "      <td>Euros 2024</td>\n",
       "    </tr>\n",
       "    <tr>\n",
       "      <th>4</th>\n",
       "      <td>Switzerland</td>\n",
       "      <td>Scotland</td>\n",
       "      <td>2024-03-21</td>\n",
       "      <td>Group Stage</td>\n",
       "      <td>Euros 2024</td>\n",
       "    </tr>\n",
       "    <tr>\n",
       "      <th>3</th>\n",
       "      <td>Switzerland</td>\n",
       "      <td>Germany</td>\n",
       "      <td>2024-03-21</td>\n",
       "      <td>Group Stage</td>\n",
       "      <td>Euros 2024</td>\n",
       "    </tr>\n",
       "    <tr>\n",
       "      <th>2</th>\n",
       "      <td>Germany</td>\n",
       "      <td>Switzerland</td>\n",
       "      <td>2024-03-21</td>\n",
       "      <td>Group Stage</td>\n",
       "      <td>Euros 2024</td>\n",
       "    </tr>\n",
       "    <tr>\n",
       "      <th>1</th>\n",
       "      <td>Scotland</td>\n",
       "      <td>Hungary</td>\n",
       "      <td>2024-03-21</td>\n",
       "      <td>Group Stage</td>\n",
       "      <td>Euros 2024</td>\n",
       "    </tr>\n",
       "    <tr>\n",
       "      <th>0</th>\n",
       "      <td>Hungary</td>\n",
       "      <td>Scotland</td>\n",
       "      <td>2024-03-21</td>\n",
       "      <td>Group Stage</td>\n",
       "      <td>Euros 2024</td>\n",
       "    </tr>\n",
       "  </tbody>\n",
       "</table>\n",
       "</div>"
      ],
      "text/plain": [
       "           team     opponent      mDate        mType        comp\n",
       "11      Germany     Scotland 2024-03-26  Group Stage  Euros 2024\n",
       "10     Scotland      Germany 2024-03-26  Group Stage  Euros 2024\n",
       "9       Hungary  Switzerland 2024-03-26  Group Stage  Euros 2024\n",
       "8   Switzerland      Hungary 2024-03-26  Group Stage  Euros 2024\n",
       "7       Germany      Hungary 2024-03-26  Group Stage  Euros 2024\n",
       "6       Hungary      Germany 2024-03-26  Group Stage  Euros 2024\n",
       "5      Scotland  Switzerland 2024-03-21  Group Stage  Euros 2024\n",
       "4   Switzerland     Scotland 2024-03-21  Group Stage  Euros 2024\n",
       "3   Switzerland      Germany 2024-03-21  Group Stage  Euros 2024\n",
       "2       Germany  Switzerland 2024-03-21  Group Stage  Euros 2024\n",
       "1      Scotland      Hungary 2024-03-21  Group Stage  Euros 2024\n",
       "0       Hungary     Scotland 2024-03-21  Group Stage  Euros 2024"
      ]
     },
     "execution_count": 226,
     "metadata": {},
     "output_type": "execute_result"
    }
   ],
   "source": [
    "en_tables[0]"
   ]
  },
  {
   "cell_type": "code",
   "execution_count": null,
   "id": "a446791e-b6d5-44be-957b-85618e2b90a2",
   "metadata": {},
   "outputs": [],
   "source": []
  }
 ],
 "metadata": {
  "kernelspec": {
   "display_name": "Python 3 (ipykernel)",
   "language": "python",
   "name": "python3"
  },
  "language_info": {
   "codemirror_mode": {
    "name": "ipython",
    "version": 3
   },
   "file_extension": ".py",
   "mimetype": "text/x-python",
   "name": "python",
   "nbconvert_exporter": "python",
   "pygments_lexer": "ipython3",
   "version": "3.11.7"
  }
 },
 "nbformat": 4,
 "nbformat_minor": 5
}
