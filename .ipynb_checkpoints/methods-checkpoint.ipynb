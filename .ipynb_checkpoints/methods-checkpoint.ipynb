{
 "cells": [
  {
   "cell_type": "markdown",
   "id": "b0a04f5c-3d10-448a-9ea6-3b27bc17596b",
   "metadata": {},
   "source": [
    "## RandomForsestClassifier Self-Prescribed Crash Course\n",
    "\n",
    "*Application of a ML algorithm, such as the RandomForest, is completely foreign to me. I will dedicate this markdown cell to explain my learnings & understandings*\n",
    "\n",
    "#### A Decision Tree Classifier \n",
    "\n",
    "A *Decision Tree* is a binary tree that splits supplied data between **decision nodes**  and **leaf nodes** \n",
    "\n",
    "> Decision Node: A node with a prerequisite that will split data into mixed or pure data <br>\n",
    "> -  A Decision Node leading to mixed data will lead to more decisions nodes\n",
    ">   \n",
    "> Leaf Node: A node containing **pure** parsed data as a result of a decision node <br>\n",
    "> <img src=\"./graphics/d_tree.png\" width=\"500\" height=\"400\">\n",
    "\n",
    "The conditionals in a decision node are random and attempt to gain the optimal split (best series of conditionals that lead to pure data the fastest) by determining the minimum **entropy**\n",
    "\n",
    "> entropy: measure of data randomness, the higher the entropy, the higher disorder and hence higher unpredictability <br>\n",
    "> <img src=\"./graphics/e_formula.png\" width=\"300\" height=\"600\">\n",
    "\n",
    "#### A Random Forest Classifier\n",
    "\n",
    "A Random Forest is a collection of Multiple decision trees, less responsive to minor changes in the dataset that it trains off of. \n",
    "\n",
    "A random selection of the data will be sparsed into **Bootstrapped Data** which is a rearrangement and random sampled with replacement (meaning rows can occur again) for new decision trees and isolated new predcitors \n",
    "\n",
    "> <img src=\"./graphics/rf_tree.png\" width=\"600\" height=\"800\">\n",
    "\n",
    "Notice, that fed off data, it passes the row into each decision tree and see what the decision tree decides. There is then a \"vote\" held with the majority outcome selected "
   ]
  }
 ],
 "metadata": {
  "kernelspec": {
   "display_name": "Python 3 (ipykernel)",
   "language": "python",
   "name": "python3"
  },
  "language_info": {
   "codemirror_mode": {
    "name": "ipython",
    "version": 3
   },
   "file_extension": ".py",
   "mimetype": "text/x-python",
   "name": "python",
   "nbconvert_exporter": "python",
   "pygments_lexer": "ipython3",
   "version": "3.11.7"
  }
 },
 "nbformat": 4,
 "nbformat_minor": 5
}
