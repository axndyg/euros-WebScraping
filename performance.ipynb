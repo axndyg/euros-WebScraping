{
 "cells": [
  {
   "cell_type": "code",
   "execution_count": 19,
   "id": "7ee2e4ae-bb44-4c96-9968-e60071514f22",
   "metadata": {},
   "outputs": [],
   "source": [
    "import pandas as pd \n",
    "\n",
    "tr = 1 \n",
    "preds_sf = f\"./predictions/match_preds/t{tr}_euros2024.csv\"\n",
    "\n",
    "preds_df = pd.read_csv(preds_sf)\n",
    "preds_df = preds_df.drop([\"Unnamed: 1\"], axis=1)\n",
    "preds_df = preds_df.iloc[:36,]\n",
    "preds_df[\"date\"] = pd.to_datetime(preds_df[\"date\"])\n"
   ]
  },
  {
   "cell_type": "code",
   "execution_count": 20,
   "id": "6344357b-98ea-4ce7-9788-38f5e10b4db7",
   "metadata": {},
   "outputs": [
    {
     "data": {
      "text/html": [
       "<div>\n",
       "<style scoped>\n",
       "    .dataframe tbody tr th:only-of-type {\n",
       "        vertical-align: middle;\n",
       "    }\n",
       "\n",
       "    .dataframe tbody tr th {\n",
       "        vertical-align: top;\n",
       "    }\n",
       "\n",
       "    .dataframe thead th {\n",
       "        text-align: right;\n",
       "    }\n",
       "</style>\n",
       "<table border=\"1\" class=\"dataframe\">\n",
       "  <thead>\n",
       "    <tr style=\"text-align: right;\">\n",
       "      <th></th>\n",
       "      <th>stage</th>\n",
       "      <th>team_a</th>\n",
       "      <th>res_a</th>\n",
       "      <th>res_b</th>\n",
       "      <th>team_b</th>\n",
       "      <th>date</th>\n",
       "    </tr>\n",
       "  </thead>\n",
       "  <tbody>\n",
       "    <tr>\n",
       "      <th>0</th>\n",
       "      <td>Group A</td>\n",
       "      <td>Germany</td>\n",
       "      <td>W</td>\n",
       "      <td>L</td>\n",
       "      <td>Scotland</td>\n",
       "      <td>2024-06-14</td>\n",
       "    </tr>\n",
       "    <tr>\n",
       "      <th>1</th>\n",
       "      <td>Group A</td>\n",
       "      <td>Hungary</td>\n",
       "      <td>L</td>\n",
       "      <td>W</td>\n",
       "      <td>Switzerland</td>\n",
       "      <td>2024-06-15</td>\n",
       "    </tr>\n",
       "    <tr>\n",
       "      <th>2</th>\n",
       "      <td>Group A</td>\n",
       "      <td>Germany</td>\n",
       "      <td>D</td>\n",
       "      <td>D</td>\n",
       "      <td>Hungary</td>\n",
       "      <td>2024-06-19</td>\n",
       "    </tr>\n",
       "    <tr>\n",
       "      <th>3</th>\n",
       "      <td>Group A</td>\n",
       "      <td>Scotland</td>\n",
       "      <td>L</td>\n",
       "      <td>W</td>\n",
       "      <td>Switzerland</td>\n",
       "      <td>2024-06-19</td>\n",
       "    </tr>\n",
       "    <tr>\n",
       "      <th>4</th>\n",
       "      <td>Group A</td>\n",
       "      <td>Switzerland</td>\n",
       "      <td>D</td>\n",
       "      <td>D</td>\n",
       "      <td>Germany</td>\n",
       "      <td>2024-06-23</td>\n",
       "    </tr>\n",
       "  </tbody>\n",
       "</table>\n",
       "</div>"
      ],
      "text/plain": [
       "     stage       team_a res_a res_b       team_b       date\n",
       "0  Group A      Germany     W     L     Scotland 2024-06-14\n",
       "1  Group A      Hungary     L     W  Switzerland 2024-06-15\n",
       "2  Group A      Germany     D     D      Hungary 2024-06-19\n",
       "3  Group A     Scotland     L     W  Switzerland 2024-06-19\n",
       "4  Group A  Switzerland     D     D      Germany 2024-06-23"
      ]
     },
     "execution_count": 20,
     "metadata": {},
     "output_type": "execute_result"
    }
   ],
   "source": [
    "preds_df.head()"
   ]
  },
  {
   "cell_type": "code",
   "execution_count": 21,
   "id": "85f2e54c-0617-40b0-a007-6c1e0ddd6218",
   "metadata": {},
   "outputs": [],
   "source": [
    "import requests \n",
    "from bs4 import BeautifulSoup\n",
    "\n",
    "results = \"https://terrikon.com/en/euro-2024\"\n",
    "res_page = requests.get(results)\n",
    "res_text = res_page.text \n",
    "res_soup = BeautifulSoup(res_text)"
   ]
  },
  {
   "cell_type": "code",
   "execution_count": 22,
   "id": "1c3ade54-617c-4d11-bc92-944c1636a4f2",
   "metadata": {},
   "outputs": [],
   "source": [
    "res_tbls = res_soup.find_all(\"table\", class_=\"gameresult\")\n",
    "res_tbls = res_tbls[4:]"
   ]
  },
  {
   "cell_type": "code",
   "execution_count": 23,
   "id": "f1ee4cf0-1bb5-45d8-a966-c0d8d44abe89",
   "metadata": {},
   "outputs": [],
   "source": [
    "import io \n",
    "\n",
    "res_dfs = [pd.concat(pd.read_html(io.StringIO(table.prettify()))) for table in res_tbls]\n",
    "# concat needed as without, each index was a list "
   ]
  },
  {
   "cell_type": "code",
   "execution_count": 24,
   "id": "104d5532-1b7f-43c5-962a-06ba076d242d",
   "metadata": {},
   "outputs": [],
   "source": [
    "def fix_table(tbl, grp):\n",
    "    res_opps = {\"W\": \"L\", \n",
    "                \"D\": \"D\", \n",
    "                \"L\": \"W\",\n",
    "                \"err\": \"err\"\n",
    "               }\n",
    "    \n",
    "    stg = [f\"Group {grp}\" for i in range(tbl.shape[0])]\n",
    "    tbl[0] = stg\n",
    "    tbl[4] = tbl[3]\n",
    "\n",
    "    s_lines = tbl[2]\n",
    "    for i in range(len(s_lines)): \n",
    "        scoreline = s_lines[i].split(\":\")\n",
    "        scr_a = scoreline[0]\n",
    "        scr_b = scoreline[1] \n",
    "\n",
    "        res_a = \"err\"\n",
    "        if scr_a > scr_b: \n",
    "            res_a = \"W\"\n",
    "        elif scr_a == scr_b:\n",
    "            res_a = \"D\"\n",
    "        elif scr_a < scr_b: \n",
    "            res_a = \"L\"\n",
    "        res_b = res_opps[res_a]\n",
    "        tbl.iloc[i, 2] = res_a \n",
    "        tbl.iloc[i, 3] = res_b\n",
    "    \n",
    "    new_cols = [\"stage\", \"team_a\", \"res_a\", \"res_b\", \"team_b\", \"date\"]\n",
    "    tbl.columns = new_cols\n",
    "\n",
    "    tbl['date'] = pd.to_datetime(tbl['date'], format=\"%d.%m.%y\")    \n",
    "                  "
   ]
  },
  {
   "cell_type": "code",
   "execution_count": 25,
   "id": "1078dfe7-b0ab-45ab-a981-3915a4b77758",
   "metadata": {},
   "outputs": [],
   "source": [
    "grps = [\"A\", \"B\", \"C\", \"D\", \"E\", \"F\"] \n",
    "for r in range(len(res_dfs)): \n",
    "    fix_table(res_dfs[r], grps[r])"
   ]
  },
  {
   "cell_type": "code",
   "execution_count": 26,
   "id": "2af4add4-a78c-43cf-85de-c8af07e5e69a",
   "metadata": {},
   "outputs": [
    {
     "data": {
      "text/html": [
       "<div>\n",
       "<style scoped>\n",
       "    .dataframe tbody tr th:only-of-type {\n",
       "        vertical-align: middle;\n",
       "    }\n",
       "\n",
       "    .dataframe tbody tr th {\n",
       "        vertical-align: top;\n",
       "    }\n",
       "\n",
       "    .dataframe thead th {\n",
       "        text-align: right;\n",
       "    }\n",
       "</style>\n",
       "<table border=\"1\" class=\"dataframe\">\n",
       "  <thead>\n",
       "    <tr style=\"text-align: right;\">\n",
       "      <th></th>\n",
       "      <th>stage</th>\n",
       "      <th>team_a</th>\n",
       "      <th>res_a</th>\n",
       "      <th>res_b</th>\n",
       "      <th>team_b</th>\n",
       "      <th>date</th>\n",
       "    </tr>\n",
       "  </thead>\n",
       "  <tbody>\n",
       "    <tr>\n",
       "      <th>0</th>\n",
       "      <td>Group A</td>\n",
       "      <td>Germany</td>\n",
       "      <td>W</td>\n",
       "      <td>L</td>\n",
       "      <td>Scotland</td>\n",
       "      <td>2024-06-14</td>\n",
       "    </tr>\n",
       "    <tr>\n",
       "      <th>1</th>\n",
       "      <td>Group A</td>\n",
       "      <td>Hungary</td>\n",
       "      <td>L</td>\n",
       "      <td>W</td>\n",
       "      <td>Switzerland</td>\n",
       "      <td>2024-06-15</td>\n",
       "    </tr>\n",
       "    <tr>\n",
       "      <th>2</th>\n",
       "      <td>Group A</td>\n",
       "      <td>Germany</td>\n",
       "      <td>W</td>\n",
       "      <td>L</td>\n",
       "      <td>Hungary</td>\n",
       "      <td>2024-06-19</td>\n",
       "    </tr>\n",
       "    <tr>\n",
       "      <th>3</th>\n",
       "      <td>Group A</td>\n",
       "      <td>Scotland</td>\n",
       "      <td>D</td>\n",
       "      <td>D</td>\n",
       "      <td>Switzerland</td>\n",
       "      <td>2024-06-19</td>\n",
       "    </tr>\n",
       "    <tr>\n",
       "      <th>4</th>\n",
       "      <td>Group A</td>\n",
       "      <td>Switzerland</td>\n",
       "      <td>D</td>\n",
       "      <td>D</td>\n",
       "      <td>Germany</td>\n",
       "      <td>2024-06-23</td>\n",
       "    </tr>\n",
       "    <tr>\n",
       "      <th>5</th>\n",
       "      <td>Group A</td>\n",
       "      <td>Scotland</td>\n",
       "      <td>L</td>\n",
       "      <td>W</td>\n",
       "      <td>Hungary</td>\n",
       "      <td>2024-06-23</td>\n",
       "    </tr>\n",
       "  </tbody>\n",
       "</table>\n",
       "</div>"
      ],
      "text/plain": [
       "     stage       team_a res_a res_b       team_b       date\n",
       "0  Group A      Germany     W     L     Scotland 2024-06-14\n",
       "1  Group A      Hungary     L     W  Switzerland 2024-06-15\n",
       "2  Group A      Germany     W     L      Hungary 2024-06-19\n",
       "3  Group A     Scotland     D     D  Switzerland 2024-06-19\n",
       "4  Group A  Switzerland     D     D      Germany 2024-06-23\n",
       "5  Group A     Scotland     L     W      Hungary 2024-06-23"
      ]
     },
     "execution_count": 26,
     "metadata": {},
     "output_type": "execute_result"
    }
   ],
   "source": [
    "res_dfs[0]"
   ]
  },
  {
   "cell_type": "code",
   "execution_count": 27,
   "id": "b29e9d37-4fd1-4ad3-8721-1911c7d43742",
   "metadata": {},
   "outputs": [],
   "source": [
    "res_df = pd.concat(res_dfs)\n",
    "res_df.index = range(res_df.shape[0])"
   ]
  },
  {
   "cell_type": "code",
   "execution_count": 28,
   "id": "0c3d87f0-b4b1-424d-9a5d-6e7e1a6dbc17",
   "metadata": {},
   "outputs": [
    {
     "data": {
      "text/html": [
       "<div>\n",
       "<style scoped>\n",
       "    .dataframe tbody tr th:only-of-type {\n",
       "        vertical-align: middle;\n",
       "    }\n",
       "\n",
       "    .dataframe tbody tr th {\n",
       "        vertical-align: top;\n",
       "    }\n",
       "\n",
       "    .dataframe thead th {\n",
       "        text-align: right;\n",
       "    }\n",
       "</style>\n",
       "<table border=\"1\" class=\"dataframe\">\n",
       "  <thead>\n",
       "    <tr style=\"text-align: right;\">\n",
       "      <th></th>\n",
       "      <th>stage</th>\n",
       "      <th>team_a</th>\n",
       "      <th>res_a</th>\n",
       "      <th>res_b</th>\n",
       "      <th>team_b</th>\n",
       "      <th>date</th>\n",
       "    </tr>\n",
       "  </thead>\n",
       "  <tbody>\n",
       "    <tr>\n",
       "      <th>31</th>\n",
       "      <td>Group F</td>\n",
       "      <td>Portugal</td>\n",
       "      <td>W</td>\n",
       "      <td>L</td>\n",
       "      <td>Czech</td>\n",
       "      <td>2024-06-18</td>\n",
       "    </tr>\n",
       "    <tr>\n",
       "      <th>32</th>\n",
       "      <td>Group F</td>\n",
       "      <td>Georgia</td>\n",
       "      <td>D</td>\n",
       "      <td>D</td>\n",
       "      <td>Czech</td>\n",
       "      <td>2024-06-22</td>\n",
       "    </tr>\n",
       "    <tr>\n",
       "      <th>33</th>\n",
       "      <td>Group F</td>\n",
       "      <td>Türkiye</td>\n",
       "      <td>L</td>\n",
       "      <td>W</td>\n",
       "      <td>Portugal</td>\n",
       "      <td>2024-06-22</td>\n",
       "    </tr>\n",
       "    <tr>\n",
       "      <th>34</th>\n",
       "      <td>Group F</td>\n",
       "      <td>Georgia</td>\n",
       "      <td>W</td>\n",
       "      <td>L</td>\n",
       "      <td>Portugal</td>\n",
       "      <td>2024-06-26</td>\n",
       "    </tr>\n",
       "    <tr>\n",
       "      <th>35</th>\n",
       "      <td>Group F</td>\n",
       "      <td>Czech</td>\n",
       "      <td>L</td>\n",
       "      <td>W</td>\n",
       "      <td>Türkiye</td>\n",
       "      <td>2024-06-26</td>\n",
       "    </tr>\n",
       "  </tbody>\n",
       "</table>\n",
       "</div>"
      ],
      "text/plain": [
       "      stage    team_a res_a res_b    team_b       date\n",
       "31  Group F  Portugal     W     L     Czech 2024-06-18\n",
       "32  Group F   Georgia     D     D     Czech 2024-06-22\n",
       "33  Group F   Türkiye     L     W  Portugal 2024-06-22\n",
       "34  Group F   Georgia     W     L  Portugal 2024-06-26\n",
       "35  Group F     Czech     L     W   Türkiye 2024-06-26"
      ]
     },
     "execution_count": 28,
     "metadata": {},
     "output_type": "execute_result"
    }
   ],
   "source": [
    "res_df.tail()"
   ]
  },
  {
   "cell_type": "code",
   "execution_count": 29,
   "id": "904e3c24-4908-42af-90a3-b97cf34b4a39",
   "metadata": {},
   "outputs": [],
   "source": [
    "comp = res_df.merge(preds_df[\"res_a\"], \n",
    "        left_index=True,\n",
    "        right_index=True\n",
    "    )\n",
    "    # reads as \n",
    "    #    leftDF.Merge(rightDF, . . . \n",
    "comp.columns.values[-1] = \"res_a_pred\"\n",
    "comp[\"res_a_x\"] =  comp[\"res_a_x\"].astype(\"category\")\n",
    "comp[\"res_a_pred\"] =  comp[\"res_a_pred\"].astype(\"category\")"
   ]
  },
  {
   "cell_type": "markdown",
   "id": "ad1e059b-a546-48cf-b626-f17e96532569",
   "metadata": {},
   "source": [
    "```!``` **Note**\n",
    "\n",
    "Make sure:\n",
    "\n",
    "> * data-types agree for like-columns if wishing to do a merge on said column <br>\n",
    "> * indexs are lined up\n",
    "\n",
    "Comparison Check if needed (merging all columns)\n",
    "\n",
    "```\n",
    "comp.loc[(comp[\"team_a_x\"] == comp[\"team_a_y\"]) & (comp[\"date_x\"] == comp[\"date_y\"])]\n",
    "```"
   ]
  },
  {
   "cell_type": "code",
   "execution_count": 30,
   "id": "13e4ab96-a32b-411d-8ebd-0bc4faf636d0",
   "metadata": {},
   "outputs": [
    {
     "data": {
      "text/html": [
       "<div>\n",
       "<style scoped>\n",
       "    .dataframe tbody tr th:only-of-type {\n",
       "        vertical-align: middle;\n",
       "    }\n",
       "\n",
       "    .dataframe tbody tr th {\n",
       "        vertical-align: top;\n",
       "    }\n",
       "\n",
       "    .dataframe thead th {\n",
       "        text-align: right;\n",
       "    }\n",
       "</style>\n",
       "<table border=\"1\" class=\"dataframe\">\n",
       "  <thead>\n",
       "    <tr style=\"text-align: right;\">\n",
       "      <th></th>\n",
       "      <th>stage</th>\n",
       "      <th>team_a</th>\n",
       "      <th>res_a_x</th>\n",
       "      <th>res_b</th>\n",
       "      <th>team_b</th>\n",
       "      <th>date</th>\n",
       "      <th>res_a_pred</th>\n",
       "    </tr>\n",
       "  </thead>\n",
       "  <tbody>\n",
       "    <tr>\n",
       "      <th>0</th>\n",
       "      <td>Group A</td>\n",
       "      <td>Germany</td>\n",
       "      <td>W</td>\n",
       "      <td>L</td>\n",
       "      <td>Scotland</td>\n",
       "      <td>2024-06-14</td>\n",
       "      <td>W</td>\n",
       "    </tr>\n",
       "    <tr>\n",
       "      <th>1</th>\n",
       "      <td>Group A</td>\n",
       "      <td>Hungary</td>\n",
       "      <td>L</td>\n",
       "      <td>W</td>\n",
       "      <td>Switzerland</td>\n",
       "      <td>2024-06-15</td>\n",
       "      <td>L</td>\n",
       "    </tr>\n",
       "    <tr>\n",
       "      <th>2</th>\n",
       "      <td>Group A</td>\n",
       "      <td>Germany</td>\n",
       "      <td>W</td>\n",
       "      <td>L</td>\n",
       "      <td>Hungary</td>\n",
       "      <td>2024-06-19</td>\n",
       "      <td>D</td>\n",
       "    </tr>\n",
       "    <tr>\n",
       "      <th>3</th>\n",
       "      <td>Group A</td>\n",
       "      <td>Scotland</td>\n",
       "      <td>D</td>\n",
       "      <td>D</td>\n",
       "      <td>Switzerland</td>\n",
       "      <td>2024-06-19</td>\n",
       "      <td>L</td>\n",
       "    </tr>\n",
       "    <tr>\n",
       "      <th>4</th>\n",
       "      <td>Group A</td>\n",
       "      <td>Switzerland</td>\n",
       "      <td>D</td>\n",
       "      <td>D</td>\n",
       "      <td>Germany</td>\n",
       "      <td>2024-06-23</td>\n",
       "      <td>D</td>\n",
       "    </tr>\n",
       "  </tbody>\n",
       "</table>\n",
       "</div>"
      ],
      "text/plain": [
       "     stage       team_a res_a_x res_b       team_b       date res_a_pred\n",
       "0  Group A      Germany       W     L     Scotland 2024-06-14          W\n",
       "1  Group A      Hungary       L     W  Switzerland 2024-06-15          L\n",
       "2  Group A      Germany       W     L      Hungary 2024-06-19          D\n",
       "3  Group A     Scotland       D     D  Switzerland 2024-06-19          L\n",
       "4  Group A  Switzerland       D     D      Germany 2024-06-23          D"
      ]
     },
     "execution_count": 30,
     "metadata": {},
     "output_type": "execute_result"
    }
   ],
   "source": [
    "comp.head()"
   ]
  },
  {
   "cell_type": "code",
   "execution_count": 31,
   "id": "d63f7eb7-f8ee-4787-b2d8-b7d06bf9dd51",
   "metadata": {},
   "outputs": [
    {
     "name": "stdout",
     "output_type": "stream",
     "text": [
      "Accuracy: \n",
      " 0.4444444444444444 \n",
      "Precision: \n",
      "  W: 0.3333333333333333\n",
      "  D: 0.42857142857142855\n",
      "  L: 0.5714285714285714\n"
     ]
    }
   ],
   "source": [
    "from sklearn.metrics import accuracy_score as ac_s\n",
    "from sklearn.metrics import precision_score as ps_s\n",
    "\n",
    "euro_ac = ac_s(comp[\"res_a_x\"], comp[\"res_a_pred\"])\n",
    "euro_prec = ps_s(comp[\"res_a_x\"], comp[\"res_a_pred\"], average=None)\n",
    "    # euro_prec printed as [D, L, W]\n",
    "\n",
    "print(f\"Accuracy: \\n {euro_ac} \\nPrecision: \\n  W: {euro_prec[2]}\\n  D: {euro_prec[0]}\\n  L: {euro_prec[1]}\")"
   ]
  },
  {
   "cell_type": "code",
   "execution_count": 32,
   "id": "5f9314f5-69c5-45a9-b752-4f14e5f8ef19",
   "metadata": {},
   "outputs": [
    {
     "data": {
      "text/plain": [
       "0.5714285714285714"
      ]
     },
     "execution_count": 32,
     "metadata": {},
     "output_type": "execute_result"
    }
   ],
   "source": [
    "mg = comp.loc[comp[\"res_a_pred\"] == \"L\"].shape[0]\n",
    "ma = comp.loc[(comp[\"res_a_x\"] == \"L\") & (comp[\"res_a_pred\"] == \"L\")].shape[0]\n",
    "ma / mg"
   ]
  },
  {
   "cell_type": "markdown",
   "id": "54aa9a47-cfe2-46e4-a4f1-d0c52020b38e",
   "metadata": {},
   "source": [
    "### **accuracy table**"
   ]
  },
  {
   "cell_type": "code",
   "execution_count": 33,
   "id": "1978b5a0-f181-4687-a215-e4ed955b84cd",
   "metadata": {},
   "outputs": [
    {
     "data": {
      "text/html": [
       "<div>\n",
       "<style scoped>\n",
       "    .dataframe tbody tr th:only-of-type {\n",
       "        vertical-align: middle;\n",
       "    }\n",
       "\n",
       "    .dataframe tbody tr th {\n",
       "        vertical-align: top;\n",
       "    }\n",
       "\n",
       "    .dataframe thead th {\n",
       "        text-align: right;\n",
       "    }\n",
       "</style>\n",
       "<table border=\"1\" class=\"dataframe\">\n",
       "  <thead>\n",
       "    <tr style=\"text-align: right;\">\n",
       "      <th></th>\n",
       "      <th>correct predictions</th>\n",
       "      <th>total predictions</th>\n",
       "    </tr>\n",
       "  </thead>\n",
       "  <tbody>\n",
       "    <tr>\n",
       "      <th>0</th>\n",
       "      <td>16</td>\n",
       "      <td>36</td>\n",
       "    </tr>\n",
       "  </tbody>\n",
       "</table>\n",
       "</div>"
      ],
      "text/plain": [
       "   correct predictions  total predictions\n",
       "0                   16                 36"
      ]
     },
     "execution_count": 33,
     "metadata": {},
     "output_type": "execute_result"
    }
   ],
   "source": [
    "preds_made = comp.shape[0]\n",
    "corr_preds = comp.loc[comp[\"res_a_x\"] == comp[\"res_a_pred\"]].shape[0]\n",
    "\n",
    "\n",
    "ac_table = pd.DataFrame( \n",
    "    {\n",
    "    \"correct predictions\": [corr_preds], \n",
    "     \"total predictions\": [preds_made]\n",
    "    }\n",
    ")\n",
    "ac_table"
   ]
  },
  {
   "cell_type": "markdown",
   "id": "c264975e-562b-4459-a259-212a0a6a044f",
   "metadata": {},
   "source": [
    "### **precision table**"
   ]
  },
  {
   "cell_type": "code",
   "execution_count": 34,
   "id": "5f073d5e-0f6e-49b6-8be8-e0a11eee6643",
   "metadata": {},
   "outputs": [],
   "source": [
    "cats = [\"W\", \"D\", \"L\"]\n",
    "\n",
    "pred_vc = comp[\"res_a_pred\"].value_counts()\n",
    "preds = [pred_vc[\"W\"], pred_vc[\"D\"], pred_vc[\"L\"]]\n",
    "\n",
    "wd = comp.loc[(comp[\"res_a_x\"] == \"W\") & (comp[\"res_a_pred\"] == \"W\")].shape[0]\n",
    "dd = comp.loc[(comp[\"res_a_x\"] == \"D\") & (comp[\"res_a_pred\"] == \"D\")].shape[0]\n",
    "ld = comp.loc[(comp[\"res_a_x\"] == \"L\") & (comp[\"res_a_pred\"] == \"L\")].shape[0]\n",
    "res_vc = comp[\"res_a_x\"].value_counts()\n",
    "res = [wd, dd, ld]  \n"
   ]
  },
  {
   "cell_type": "code",
   "execution_count": 35,
   "id": "178fd043-29c8-4e69-90b9-e8e4bc268b54",
   "metadata": {},
   "outputs": [
    {
     "data": {
      "text/html": [
       "<div>\n",
       "<style scoped>\n",
       "    .dataframe tbody tr th:only-of-type {\n",
       "        vertical-align: middle;\n",
       "    }\n",
       "\n",
       "    .dataframe tbody tr th {\n",
       "        vertical-align: top;\n",
       "    }\n",
       "\n",
       "    .dataframe thead th {\n",
       "        text-align: right;\n",
       "    }\n",
       "</style>\n",
       "<table border=\"1\" class=\"dataframe\">\n",
       "  <thead>\n",
       "    <tr style=\"text-align: right;\">\n",
       "      <th></th>\n",
       "      <th>prediction</th>\n",
       "      <th>actual</th>\n",
       "    </tr>\n",
       "  </thead>\n",
       "  <tbody>\n",
       "    <tr>\n",
       "      <th>W</th>\n",
       "      <td>15</td>\n",
       "      <td>5</td>\n",
       "    </tr>\n",
       "    <tr>\n",
       "      <th>D</th>\n",
       "      <td>7</td>\n",
       "      <td>3</td>\n",
       "    </tr>\n",
       "    <tr>\n",
       "      <th>L</th>\n",
       "      <td>14</td>\n",
       "      <td>8</td>\n",
       "    </tr>\n",
       "  </tbody>\n",
       "</table>\n",
       "</div>"
      ],
      "text/plain": [
       "   prediction  actual\n",
       "W          15       5\n",
       "D           7       3\n",
       "L          14       8"
      ]
     },
     "execution_count": 35,
     "metadata": {},
     "output_type": "execute_result"
    }
   ],
   "source": [
    "ps_table = pd.DataFrame(\n",
    "    {\"prediction\": preds, \"actual\": res},\n",
    "    index= cats\n",
    ")\n",
    "ps_table"
   ]
  },
  {
   "cell_type": "markdown",
   "id": "55ca5c74-30cd-4f2e-9d8a-ec125353b6ee",
   "metadata": {},
   "source": [
    "### **plotting**"
   ]
  },
  {
   "cell_type": "code",
   "execution_count": 36,
   "id": "a91210b0-6b48-4f8a-ae35-c24a29c58301",
   "metadata": {},
   "outputs": [
    {
     "data": {
      "image/png": "[encoded data removed]",
      "text/plain": [
       "<Figure size 1440x720 with 2 Axes>"
      ]
     },
     "metadata": {},
     "output_type": "display_data"
    }
   ],
   "source": [
    "import matplotlib.pyplot as plt \n",
    "import numpy as np \n",
    "\n",
    "nrows = 1\n",
    "ncols = 2\n",
    "f_width = 12\n",
    "f_height = 6\n",
    "fig, axes = plt.subplots(nrows, ncols, figsize=(f_width, f_height), dpi=120)\n",
    "\n",
    "\n",
    "ac_table.plot.bar( \n",
    "    ax= axes[0],\n",
    "    rot=0, \n",
    "    color=[\"#FFA400\", \"#009ffd\"],\n",
    "\n",
    "    xticks=[],\n",
    "    ylim=[0,40]\n",
    ")\n",
    "\n",
    "ps_table.plot.bar(\n",
    "     ax = axes[1],\n",
    "     rot=0,\n",
    "     color=[\"#FFA400\", \"#009ffd\"],\n",
    "    \n",
    "     ylim=[0,18],\n",
    "     yticks=np.arange(0, 22, step=2)\n",
    ")\n",
    "\n",
    "fig.patch.set_facecolor(\"#1e1e1e\")\n",
    "axes[0].set_title(\"Group Stage Accuracy Rating\", color=\"white\")\n",
    "axes[1].set_title(\"Group Stage Precision Rating\", color=\"white\")\n",
    "\n",
    "for ax in axes: \n",
    "    ax.bar_label(ax.containers[0], color=\"white\")\n",
    "    ax.bar_label(ax.containers[1], color=\"white\")\n",
    "    \n",
    "    ax.set_facecolor(\"#1e1e1e\")    \n",
    "    ax.set_ylabel('Count', color='white')\n",
    "    ax.tick_params(colors='white')\n",
    "    ax.spines['bottom'].set_color('white')\n",
    "    ax.spines['top'].set_color('white')\n",
    "    ax.spines['left'].set_color('white')\n",
    "    ax.spines['right'].set_color('white')\n",
    "    ax.legend(facecolor=\"#1e1e1e\", labelcolor=\"linecolor\")\n",
    "\n",
    "plt.savefig(\"./graphics/e_performance\")\n",
    "plt.show()"
   ]
  },
  {
   "cell_type": "code",
   "execution_count": null,
   "id": "9d6aee5d-5d22-4e63-a257-8385a5c1d3cd",
   "metadata": {},
   "outputs": [],
   "source": []
  }
 ],
 "metadata": {
  "kernelspec": {
   "display_name": "Python 3 (ipykernel)",
   "language": "python",
   "name": "python3"
  },
  "language_info": {
   "codemirror_mode": {
    "name": "ipython",
    "version": 3
   },
   "file_extension": ".py",
   "mimetype": "text/x-python",
   "name": "python",
   "nbconvert_exporter": "python",
   "pygments_lexer": "ipython3",
   "version": "3.11.7"
  }
 },
 "nbformat": 4,
 "nbformat_minor": 5
}
